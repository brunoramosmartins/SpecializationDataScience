{
 "cells": [
  {
   "cell_type": "markdown",
   "id": "36b6a90e",
   "metadata": {},
   "source": [
    "# Box and Whisker Plots"
   ]
  },
  {
   "cell_type": "markdown",
   "id": "509836ed",
   "metadata": {},
   "source": [
    "Um box plot, às vezes chamado box-and-whisker plot, é um método de mostrar estatísticas agregadas de várias amostras de forma concisa. O objetivo do boxplot é resumir a distribuição de seus dados por meio de uma visualização do que é chamado de resumo de 5 números: os extremos - geralmente os valores mínimo e máximo, o centro, geralmente a mediana dos dados, e o primeiro e terceiros quartis de seus dados. Os quartis de seus dados os dividem em quatro baldes de tamanhos aproximadamente semelhantes e, portanto, os marcadores de primeiro e terceiro quartil - às vezes chamados de dobradiças - mostram os 50% intermediários de seus dados. Através do box plot podemos ter uma noção da ponderação dos dados em uma representação visual bastante compacta. Vamos dar uma olhada."
   ]
  },
  {
   "cell_type": "code",
   "execution_count": 1,
   "id": "96eec485",
   "metadata": {},
   "outputs": [
    {
     "data": {
      "text/html": [
       "<div>\n",
       "<style scoped>\n",
       "    .dataframe tbody tr th:only-of-type {\n",
       "        vertical-align: middle;\n",
       "    }\n",
       "\n",
       "    .dataframe tbody tr th {\n",
       "        vertical-align: top;\n",
       "    }\n",
       "\n",
       "    .dataframe thead th {\n",
       "        text-align: right;\n",
       "    }\n",
       "</style>\n",
       "<table border=\"1\" class=\"dataframe\">\n",
       "  <thead>\n",
       "    <tr style=\"text-align: right;\">\n",
       "      <th></th>\n",
       "      <th>normal</th>\n",
       "      <th>random</th>\n",
       "      <th>gamma</th>\n",
       "    </tr>\n",
       "  </thead>\n",
       "  <tbody>\n",
       "    <tr>\n",
       "      <th>0</th>\n",
       "      <td>-2.093125</td>\n",
       "      <td>0.054381</td>\n",
       "      <td>0.874330</td>\n",
       "    </tr>\n",
       "    <tr>\n",
       "      <th>1</th>\n",
       "      <td>-0.352347</td>\n",
       "      <td>0.248856</td>\n",
       "      <td>2.794117</td>\n",
       "    </tr>\n",
       "    <tr>\n",
       "      <th>2</th>\n",
       "      <td>-0.430909</td>\n",
       "      <td>0.733453</td>\n",
       "      <td>1.994698</td>\n",
       "    </tr>\n",
       "    <tr>\n",
       "      <th>3</th>\n",
       "      <td>0.690681</td>\n",
       "      <td>0.654833</td>\n",
       "      <td>5.099618</td>\n",
       "    </tr>\n",
       "    <tr>\n",
       "      <th>4</th>\n",
       "      <td>1.490623</td>\n",
       "      <td>0.501877</td>\n",
       "      <td>1.180359</td>\n",
       "    </tr>\n",
       "    <tr>\n",
       "      <th>...</th>\n",
       "      <td>...</td>\n",
       "      <td>...</td>\n",
       "      <td>...</td>\n",
       "    </tr>\n",
       "    <tr>\n",
       "      <th>9995</th>\n",
       "      <td>1.757456</td>\n",
       "      <td>0.168274</td>\n",
       "      <td>0.242767</td>\n",
       "    </tr>\n",
       "    <tr>\n",
       "      <th>9996</th>\n",
       "      <td>-0.500452</td>\n",
       "      <td>0.030699</td>\n",
       "      <td>3.165910</td>\n",
       "    </tr>\n",
       "    <tr>\n",
       "      <th>9997</th>\n",
       "      <td>-3.242489</td>\n",
       "      <td>0.949505</td>\n",
       "      <td>3.573703</td>\n",
       "    </tr>\n",
       "    <tr>\n",
       "      <th>9998</th>\n",
       "      <td>0.475709</td>\n",
       "      <td>0.909800</td>\n",
       "      <td>2.570102</td>\n",
       "    </tr>\n",
       "    <tr>\n",
       "      <th>9999</th>\n",
       "      <td>0.374356</td>\n",
       "      <td>0.776973</td>\n",
       "      <td>0.451664</td>\n",
       "    </tr>\n",
       "  </tbody>\n",
       "</table>\n",
       "<p>10000 rows × 3 columns</p>\n",
       "</div>"
      ],
      "text/plain": [
       "        normal    random     gamma\n",
       "0    -2.093125  0.054381  0.874330\n",
       "1    -0.352347  0.248856  2.794117\n",
       "2    -0.430909  0.733453  1.994698\n",
       "3     0.690681  0.654833  5.099618\n",
       "4     1.490623  0.501877  1.180359\n",
       "...        ...       ...       ...\n",
       "9995  1.757456  0.168274  0.242767\n",
       "9996 -0.500452  0.030699  3.165910\n",
       "9997 -3.242489  0.949505  3.573703\n",
       "9998  0.475709  0.909800  2.570102\n",
       "9999  0.374356  0.776973  0.451664\n",
       "\n",
       "[10000 rows x 3 columns]"
      ]
     },
     "execution_count": 1,
     "metadata": {},
     "output_type": "execute_result"
    }
   ],
   "source": [
    "# First we'll bring in our libraries\n",
    "import pandas as pd\n",
    "import matplotlib.pyplot as plt\n",
    "import numpy as np\n",
    "\n",
    "# Now let's create three different samples from NumPy - One for the normal distribution,\n",
    "# one for random, and one from a gamma distribution. \n",
    "\n",
    "normal_sample = np.random.normal(loc=0.0, scale=1.0, size=10000)\n",
    "random_sample = np.random.random(size=10000)\n",
    "gamma_sample = np.random.gamma(2, size=10000)\n",
    "\n",
    "# Next, let's put those in a pandas DataFrame.\n",
    "df = pd.DataFrame({'normal': normal_sample, \n",
    "                   'random': random_sample, \n",
    "                   'gamma': gamma_sample})\n",
    "df"
   ]
  },
  {
   "cell_type": "code",
   "execution_count": 2,
   "id": "59d6bc0f",
   "metadata": {},
   "outputs": [
    {
     "data": {
      "text/html": [
       "<div>\n",
       "<style scoped>\n",
       "    .dataframe tbody tr th:only-of-type {\n",
       "        vertical-align: middle;\n",
       "    }\n",
       "\n",
       "    .dataframe tbody tr th {\n",
       "        vertical-align: top;\n",
       "    }\n",
       "\n",
       "    .dataframe thead th {\n",
       "        text-align: right;\n",
       "    }\n",
       "</style>\n",
       "<table border=\"1\" class=\"dataframe\">\n",
       "  <thead>\n",
       "    <tr style=\"text-align: right;\">\n",
       "      <th></th>\n",
       "      <th>normal</th>\n",
       "      <th>random</th>\n",
       "      <th>gamma</th>\n",
       "    </tr>\n",
       "  </thead>\n",
       "  <tbody>\n",
       "    <tr>\n",
       "      <th>count</th>\n",
       "      <td>10000.000000</td>\n",
       "      <td>10000.000000</td>\n",
       "      <td>10000.000000</td>\n",
       "    </tr>\n",
       "    <tr>\n",
       "      <th>mean</th>\n",
       "      <td>0.002383</td>\n",
       "      <td>0.501589</td>\n",
       "      <td>1.988248</td>\n",
       "    </tr>\n",
       "    <tr>\n",
       "      <th>std</th>\n",
       "      <td>0.998707</td>\n",
       "      <td>0.287904</td>\n",
       "      <td>1.401701</td>\n",
       "    </tr>\n",
       "    <tr>\n",
       "      <th>min</th>\n",
       "      <td>-3.421413</td>\n",
       "      <td>0.000029</td>\n",
       "      <td>0.029934</td>\n",
       "    </tr>\n",
       "    <tr>\n",
       "      <th>25%</th>\n",
       "      <td>-0.664285</td>\n",
       "      <td>0.251182</td>\n",
       "      <td>0.969825</td>\n",
       "    </tr>\n",
       "    <tr>\n",
       "      <th>50%</th>\n",
       "      <td>-0.007043</td>\n",
       "      <td>0.503997</td>\n",
       "      <td>1.687850</td>\n",
       "    </tr>\n",
       "    <tr>\n",
       "      <th>75%</th>\n",
       "      <td>0.663809</td>\n",
       "      <td>0.749124</td>\n",
       "      <td>2.673620</td>\n",
       "    </tr>\n",
       "    <tr>\n",
       "      <th>max</th>\n",
       "      <td>3.714497</td>\n",
       "      <td>0.999677</td>\n",
       "      <td>11.326514</td>\n",
       "    </tr>\n",
       "  </tbody>\n",
       "</table>\n",
       "</div>"
      ],
      "text/plain": [
       "             normal        random         gamma\n",
       "count  10000.000000  10000.000000  10000.000000\n",
       "mean       0.002383      0.501589      1.988248\n",
       "std        0.998707      0.287904      1.401701\n",
       "min       -3.421413      0.000029      0.029934\n",
       "25%       -0.664285      0.251182      0.969825\n",
       "50%       -0.007043      0.503997      1.687850\n",
       "75%        0.663809      0.749124      2.673620\n",
       "max        3.714497      0.999677     11.326514"
      ]
     },
     "execution_count": 2,
     "metadata": {},
     "output_type": "execute_result"
    }
   ],
   "source": [
    "# Now we can use the pandas describe function to see some summary statistics about our data frame.\n",
    "# Each row has 10,000 entries. The mean values and standard deviation vary heavily.\n",
    "df.describe()"
   ]
  },
  {
   "cell_type": "markdown",
   "id": "f6d9506d",
   "metadata": {},
   "source": [
    "Esta função mostra os valores mínimo e máximo e três valores percentuais diferentes. Esses valores percentuais compõem o que é chamado de intervalo interquartílico. Existem quatro trimestres diferentes dos dados. O primeiro está entre o valor mínimo e os primeiros 25% dos dados. E esse valor de 25% é chamado de primeiro quartil. O segundo trimestre de dados está entre a marca de 25% e 50% dos dados. O terceiro entre 50 e 75% dos dados. E a marca de 75% é chamada de terceiro quartil. E o dado final está entre os 75% e o máximo dos dados.\n",
    "\n",
    "Como o desvio padrão, o intervalo interquartílico é uma medida da variabilidade dos dados. E é comum plotar isso usando um gráfico de caixa. Em um box plot, a média, ou mediana, dos dados é plotada como uma linha reta. Duas caixas são formadas, uma acima, que representa o grupo de dados de 50% a 75%, e uma abaixo, que representa o grupo de dados de 25% a 50%. Linhas finas são então desenhadas para os valores mínimo e máximo."
   ]
  },
  {
   "cell_type": "code",
   "execution_count": 4,
   "id": "7d131dce",
   "metadata": {},
   "outputs": [
    {
     "data": {
      "image/png": "[encoded data removed]",
      "text/plain": [
       "<Figure size 432x288 with 1 Axes>"
      ]
     },
     "metadata": {
      "needs_background": "light"
     },
     "output_type": "display_data"
    }
   ],
   "source": [
    "# To see a boxplot we just choose the column of the dataframe we are interested in and pass it\n",
    "# to pyplot's boxplot function. matplotlib uses numpy arrays for data, but since pandas is built\n",
    "# on top of numpy things work fluidly\n",
    "plt.boxplot(df['normal']);"
   ]
  },
  {
   "cell_type": "markdown",
   "id": "15fb62d4",
   "metadata": {},
   "source": [
    "Você verá que matplotlib realmente imprime um monte de informações sobre artistas. Frequentemente, não queremos realmente ver isso, mas às vezes pode ser útil. Para suprimir isso, simplesmente colocamos um ponto e vírgula no final de nossa última declaração. Este é um truque do notebook Jupyter que eu realmente usei algumas vezes e não contei a você - ele suprime a impressão da última variável em uma célula. Esteja avisado, não é python padrão!"
   ]
  },
  {
   "cell_type": "markdown",
   "id": "6a91d71d",
   "metadata": {},
   "source": [
    "Ótimo, isso nos dá um gráfico de caixa básico. Agora vamos adicionar as outras duas amostras a ele. Infelizmente, não podemos simplesmente passar um quadro de dados pandas inteiro para matplotlib. Em vez disso, precisamos retirar cada coluna e enviá-las como uma lista de valores."
   ]
  },
  {
   "cell_type": "code",
   "execution_count": 5,
   "id": "c621b151",
   "metadata": {},
   "outputs": [
    {
     "data": {
      "image/png": "[encoded data removed]",
      "text/plain": [
       "<Figure size 432x288 with 1 Axes>"
      ]
     },
     "metadata": {
      "needs_background": "light"
     },
     "output_type": "display_data"
    }
   ],
   "source": [
    "# plot boxplots for all three of df's columns\n",
    "plt.boxplot([ df['normal'], df['random'], df['gamma'] ], whis=[0,100]);"
   ]
  },
  {
   "cell_type": "markdown",
   "id": "c18122d0",
   "metadata": {},
   "source": [
    "Tudo bem, isso nos dá nossas três distribuições. Agora, não normalizamos a escala, então isso é um pouco instável. Mas se olharmos para a distribuição gama, por exemplo, vemos que sua cauda é muito, muito longa. Portanto, os valores máximos estão muito distantes. Vamos dar uma olhada nisso por si só em um histograma."
   ]
  },
  {
   "cell_type": "code",
   "execution_count": 6,
   "id": "7ddcd34a",
   "metadata": {},
   "outputs": [
    {
     "data": {
      "image/png": "[encoded data removed]",
      "text/plain": [
       "<Figure size 432x288 with 1 Axes>"
      ]
     },
     "metadata": {
      "needs_background": "light"
     },
     "output_type": "display_data"
    }
   ],
   "source": [
    "plt.hist(df['gamma'], bins=100);"
   ]
  },
  {
   "cell_type": "markdown",
   "id": "33c56059",
   "metadata": {},
   "source": [
    "Interessante, vemos que começa em um nível moderado, aumenta, depois cai muito mais gradualmente e realmente tem uma cauda muito longa. Vamos adicioná-lo ao nosso box plot, e vou aproveitá-lo como uma oportunidade para demonstrar algo chamado [inset axes](https://matplotlib.org/stable/api/_as_gen/matplotlib.axes.Axes.inset_axes.html).\n",
    "\n",
    "Lembre-se de que temos uma figura com uma subtrama. Como não fizemos nada sofisticado com subplots, isso significa que temos apenas um objeto de eixos. Na verdade, podemos sobrepor um eixo sobre outro dentro de uma figura. Fazemos isso chamando a função `inset_axes` na figura e enviando os detalhes dos novos eixos que queremos criar. Os detalhes que enviamos são uma posição no espaço x/y e a largura e altura do novo gráfico."
   ]
  },
  {
   "cell_type": "code",
   "execution_count": 7,
   "id": "f4412a5e",
   "metadata": {},
   "outputs": [
    {
     "data": {
      "image/png": "[encoded data removed]",
      "text/plain": [
       "<Figure size 648x648 with 1 Axes>"
      ]
     },
     "metadata": {
      "needs_background": "light"
     },
     "output_type": "display_data"
    }
   ],
   "source": [
    "plt.figure(figsize=(9,9))\n",
    "# Our main figure is our boxplot\n",
    "plt.boxplot([ df['normal'], df['random'], df['gamma'] ], whis=[0,100])\n",
    "# Now let's plot on that axes a new axes object! This will be overlayed on\n",
    "# top, and we provide a bounding box of (0,0.6) as the bottom left, and \n",
    "# (0.6,0.4) as width and height. These are ratios of the ax object\n",
    "ax2 = plt.gca().inset_axes([0,0.6,0.6,0.4])\n",
    "# Now we can just plot our histogram right on there\n",
    "ax2.hist(df['gamma'], bins=100, density=True)\n",
    "# And since the histogram will have tick labels on the left and clash with\n",
    "# the main figure, we can flip them to the right\n",
    "ax2.yaxis.tick_right();"
   ]
  },
  {
   "cell_type": "markdown",
   "id": "01124cc7",
   "metadata": {},
   "source": [
    "Muito legal, não é? Então, em uma figura aqui temos nossos boxplots de três distribuições, e então temos uma bela imagem inserida mostrando o histograma do boxplot mais à direita.\n",
    "\n",
    "Lembre-se novamente que cada boxplot é o nosso resumo de cinco números -- uma linha mediana em vermelho no meio, depois duas caixas de cada lado que representam 25% da população, respectivamente, depois bigodes que vão até o máximo e mínimo do dados. Este seria um ótimo momento para pausar o vídeo e brincar com o notebook, para limpar essa figura adicionando títulos, legendas e coisas do gênero. Como você deixaria claro para o leitor que o histograma inserido é sobre o boxplot na extrema direita, por exemplo?"
   ]
  },
  {
   "cell_type": "markdown",
   "id": "58356113",
   "metadata": {},
   "source": [
    "Agora, muitas vezes queremos olhar para um boxplot não vendo os valores máximos e mínimos, mas enfatizando os valores discrepantes.\n",
    "Como os outliers são detectados realmente depende, e existem vários mecanismos para determinar se uma observação é um outlier ou não. Se olharmos para a documentação, porém, o padrão para matplotlib é que outliers são todos os pontos de dados que são maiores ou menores que a distância entre a dobradiça (parte inferior ou superior da caixa, ou primeiro e terceiro quartil) e 1,5 * o intervalo interquartil (IQR). A faixa interquartil é a distância entre as duas dobradiças, que captura 50% de nossos dados. Portanto, se omitirmos o parâmetro `whis` para a chamada boxplot, veremos os outliers usando esse método plotados."
   ]
  },
  {
   "cell_type": "code",
   "execution_count": 8,
   "id": "4fe552c6",
   "metadata": {},
   "outputs": [
    {
     "data": {
      "image/png": "[encoded data removed]",
      "text/plain": [
       "<Figure size 720x720 with 1 Axes>"
      ]
     },
     "metadata": {
      "needs_background": "light"
     },
     "output_type": "display_data"
    }
   ],
   "source": [
    "# Nice big figure\n",
    "plt.figure(figsize=(10,10))\n",
    "# Now with outliers\n",
    "plt.boxplot([ df['normal'], df['random'], df['gamma'] ]);"
   ]
  },
  {
   "cell_type": "markdown",
   "id": "263df591",
   "metadata": {},
   "source": [
    "Cada círculo no boxplot é uma única observação discrepante. O gráfico de caixa é um dos gráficos mais comuns que você pode usar como cientista de dados, e o matplotlib tem suporte significativo para diferentes tipos de gráficos de caixa. Aqui, a documentação do matplotlib é fundamental. Você pode encontrar links nos recursos do curso para a API, que descreve a funcionalidade do box plot.\n",
    "\n",
    "Tenho mais um gráfico para mostrar esta semana - um histograma bidimensional, mais conhecido como mapa de calor. Em seguida, veremos mais alguns recursos avançados do matplotlib."
   ]
  },
  {
   "cell_type": "code",
   "execution_count": null,
   "id": "7bb23812",
   "metadata": {},
   "outputs": [],
   "source": []
  }
 ],
 "metadata": {
  "kernelspec": {
   "display_name": "Python 3",
   "language": "python",
   "name": "python3"
  },
  "language_info": {
   "codemirror_mode": {
    "name": "ipython",
    "version": 3
   },
   "file_extension": ".py",
   "mimetype": "text/x-python",
   "name": "python",
   "nbconvert_exporter": "python",
   "pygments_lexer": "ipython3",
   "version": "3.8.1"
  }
 },
 "nbformat": 4,
 "nbformat_minor": 5
}
