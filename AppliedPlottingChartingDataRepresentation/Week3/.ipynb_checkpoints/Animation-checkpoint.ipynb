{
 "cells": [
  {
   "cell_type": "markdown",
   "id": "c0934720",
   "metadata": {},
   "source": [
    "# Animation"
   ]
  },
  {
   "cell_type": "markdown",
   "id": "1e319bf9",
   "metadata": {},
   "source": [
    "Até agora focamos em imagens estáticas, mas matplotlib tem algum suporte para animação. Isso requer uma biblioteca separada para usar no notebook Jupyter chamada `ipympl`, e eu a instalei para você aqui. A animação depende dessa biblioteca porque ela fornece um novo back-end para nós, chame o back-end `widget`. Vamos ativar isso aqui."
   ]
  },
  {
   "cell_type": "code",
   "execution_count": 1,
   "id": "39a81ca9",
   "metadata": {},
   "outputs": [],
   "source": [
    "%matplotlib widget\n",
    "\n",
    "# We can bring in some other libraries we will need too, including the \n",
    "# matplotlib animation module\n",
    "import matplotlib.pyplot as plt\n",
    "import matplotlib.animation as animation\n",
    "import numpy as np"
   ]
  },
  {
   "cell_type": "markdown",
   "id": "5d15c266",
   "metadata": {},
   "source": [
    "O módulo Maplotlib.animation contém auxiliares importantes para a construção de animações, e para nossa discussão de hoje, o objeto importante que vamos usar é chamado `FuncAnimation`. Isso cria uma animação chamando iterativamente uma função que você define. O trabalho desta função é limpar o objeto do eixo e redesenhar o próximo quadro da animação. Em seguida, esses quadros são todos empilhados em um vídeo reproduzível.\n",
    "\n",
    "Eu gosto de usar esta demonstração em minhas aulas aqui em Michigan para mostrar aos alunos como as distribuições podem ser amostradas. Então, vamos construir uma animação básica que extrairá 100 amostras da distribuição normal. Vamos gerar esses dados agora."
   ]
  },
  {
   "cell_type": "code",
   "execution_count": 2,
   "id": "c36d9a25",
   "metadata": {},
   "outputs": [],
   "source": [
    "n = 100\n",
    "x = np.random.randn(n)"
   ]
  },
  {
   "cell_type": "markdown",
   "id": "d2155620",
   "metadata": {},
   "source": [
    "Ok, a seguir queremos realmente criar uma função que fará a plotagem. Chamaremos essa função de `update`. Agora, o objeto matplotlib FuncAnimation vai chamar isso a cada poucos milissegundos e passar o número do quadro em que estamos começando com o quadro zero. Portanto, podemos usar isso como o índice em nossos valores de matriz, que chamamos de `x`.\n",
    "\n",
    "A primeira coisa que queremos fazer é ver se o quadro atual está no final da nossa lista. Nesse caso, precisamos dizer à animação para parar. Fazemos isso chamando o objeto stop no objeto de origem do evento anexado ao objeto FuncAnimation."
   ]
  },
  {
   "cell_type": "code",
   "execution_count": 3,
   "id": "c154fa18",
   "metadata": {},
   "outputs": [],
   "source": [
    "# create the function that will do the plotting, where curr is the current frame\n",
    "def update(curr):\n",
    "    # check if animation is at the last frame, and if so, stop the animation a\n",
    "    if curr == n: \n",
    "        a.event_source.stop()\n",
    "    \n",
    "    # What is a? Well, it's an object that we'll define in a bit, and it will\n",
    "    # sit outside of this function but we can still access it since python allows\n",
    "    # us to access variables in the global scope.\n",
    "    \n",
    "    # Now on to the work. First thing we want to do is clear the current axes.\n",
    "    # We can do this with plt.cla().\n",
    "    plt.cla()\n",
    "    \n",
    "    # Now I jut want to plot a histogram. I'm going to set my bins to a predictable\n",
    "    # value so it doesn't jump around, but you can play with this\n",
    "    bins = np.arange(-4, 4, 0.5)\n",
    "    \n",
    "    # Then we just make the hist() using the current frame number which was passed\n",
    "    # into the function and our global values array\n",
    "    plt.hist(x[:curr], bins=bins)\n",
    "    \n",
    "    # Set the axes limits\n",
    "    plt.axis([-4,4,0,30])\n",
    "    \n",
    "    # And add some nice labels throughout\n",
    "    plt.gca().set_title('Sampling the Normal Distribution')\n",
    "    plt.gca().set_ylabel('Frequency')\n",
    "    plt.gca().set_xlabel('Value')\n",
    "    plt.annotate('n = {}'.format(curr), [3,27])"
   ]
  },
  {
   "cell_type": "markdown",
   "id": "46016f24",
   "metadata": {},
   "source": [
    "Agora a maior parte do nosso trabalho árduo está feito, então só temos que vê-lo. Para fazer isso, basta gerar uma nova figura, chamar o construtor FuncAnimation e atribuí-lo à variável a, pois precisamos disso para nossa função `update()`, que interromperá a animação no final. O primeiro parâmetro é a figura com a qual estamos trabalhando. Isso não é tão importante aqui, pois estamos usando a interface de script pylot para gerenciar a figura. Em seguida, o nome da nossa função e a quantidade de tempo que queremos entre as atualizações. Vamos definir isso para 100 milissegundos."
   ]
  },
  {
   "cell_type": "code",
   "execution_count": 4,
   "id": "06841e57",
   "metadata": {},
   "outputs": [
    {
     "data": {
      "application/vnd.jupyter.widget-view+json": {
       "model_id": "50b9c67565594203afa718226e01405e",
       "version_major": 2,
       "version_minor": 0
      },
      "image/png": "[encoded data removed]",
      "text/html": [
       "\n",
       "            <div style=\"display: inline-block;\">\n",
       "                <div class=\"jupyter-widgets widget-label\" style=\"text-align: center;\">\n",
       "                    Figure\n",
       "                </div>\n",
       "                <img src='data:image/png;base64,iVBORw0KGgoAAAANSUhEUgAAAoAAAAHgCAYAAAA10dzkAAAAOXRFWHRTb2Z0d2FyZQBNYXRwbG90bGliIHZlcnNpb24zLjcuMCwgaHR0cHM6Ly9tYXRwbG90bGliLm9yZy88F64QAAAACXBIWXMAAA9hAAAPYQGoP6dpAAAIyUlEQVR4nO3WMQEAIAzAMMC/5+ECjiYKenbPzCwAADLO7wAAAN4ygAAAMQYQACDGAAIAxBhAAIAYAwgAEGMAAQBiDCAAQIwBBACIMYAAADEGEAAgxgACAMQYQACAGAMIABBjAAEAYgwgAECMAQQAiDGAAAAxBhAAIMYAAgDEGEAAgBgDCAAQYwABAGIMIABAjAEEAIgxgAAAMQYQACDGAAIAxBhAAIAYAwgAEGMAAQBiDCAAQIwBBACIMYAAADEGEAAgxgACAMQYQACAGAMIABBjAAEAYgwgAECMAQQAiDGAAAAxBhAAIMYAAgDEGEAAgBgDCAAQYwABAGIMIABAjAEEAIgxgAAAMQYQACDGAAIAxBhAAIAYAwgAEGMAAQBiDCAAQIwBBACIMYAAADEGEAAgxgACAMQYQACAGAMIABBjAAEAYgwgAECMAQQAiDGAAAAxBhAAIMYAAgDEGEAAgBgDCAAQYwABAGIMIABAjAEEAIgxgAAAMQYQACDGAAIAxBhAAIAYAwgAEGMAAQBiDCAAQIwBBACIMYAAADEGEAAgxgACAMQYQACAGAMIABBjAAEAYgwgAECMAQQAiDGAAAAxBhAAIMYAAgDEGEAAgBgDCAAQYwABAGIMIABAjAEEAIgxgAAAMQYQACDGAAIAxBhAAIAYAwgAEGMAAQBiDCAAQIwBBACIMYAAADEGEAAgxgACAMQYQACAGAMIABBjAAEAYgwgAECMAQQAiDGAAAAxBhAAIMYAAgDEGEAAgBgDCAAQYwABAGIMIABAjAEEAIgxgAAAMQYQACDGAAIAxBhAAIAYAwgAEGMAAQBiDCAAQIwBBACIMYAAADEGEAAgxgACAMQYQACAGAMIABBjAAEAYgwgAECMAQQAiDGAAAAxBhAAIMYAAgDEGEAAgBgDCAAQYwABAGIMIABAjAEEAIgxgAAAMQYQACDGAAIAxBhAAIAYAwgAEGMAAQBiDCAAQIwBBACIMYAAADEGEAAgxgACAMQYQACAGAMIABBjAAEAYgwgAECMAQQAiDGAAAAxBhAAIMYAAgDEGEAAgBgDCAAQYwABAGIMIABAjAEEAIgxgAAAMQYQACDGAAIAxBhAAIAYAwgAEGMAAQBiDCAAQIwBBACIMYAAADEGEAAgxgACAMQYQACAGAMIABBjAAEAYgwgAECMAQQAiDGAAAAxBhAAIMYAAgDEGEAAgBgDCAAQYwABAGIMIABAjAEEAIgxgAAAMQYQACDGAAIAxBhAAIAYAwgAEGMAAQBiDCAAQIwBBACIMYAAADEGEAAgxgACAMQYQACAGAMIABBjAAEAYgwgAECMAQQAiDGAAAAxBhAAIMYAAgDEGEAAgBgDCAAQYwABAGIMIABAjAEEAIgxgAAAMQYQACDGAAIAxBhAAIAYAwgAEGMAAQBiDCAAQIwBBACIMYAAADEGEAAgxgACAMQYQACAGAMIABBjAAEAYgwgAECMAQQAiDGAAAAxBhAAIMYAAgDEGEAAgBgDCAAQYwABAGIMIABAjAEEAIgxgAAAMQYQACDGAAIAxBhAAIAYAwgAEGMAAQBiDCAAQIwBBACIMYAAADEGEAAgxgACAMQYQACAGAMIABBjAAEAYgwgAECMAQQAiDGAAAAxBhAAIMYAAgDEGEAAgBgDCAAQYwABAGIMIABAjAEEAIgxgAAAMQYQACDGAAIAxBhAAIAYAwgAEGMAAQBiDCAAQIwBBACIMYAAADEGEAAgxgACAMQYQACAGAMIABBjAAEAYgwgAECMAQQAiDGAAAAxBhAAIMYAAgDEGEAAgBgDCAAQYwABAGIMIABAjAEEAIgxgAAAMQYQACDGAAIAxBhAAIAYAwgAEGMAAQBiDCAAQIwBBACIMYAAADEGEAAgxgACAMQYQACAGAMIABBjAAEAYgwgAECMAQQAiDGAAAAxBhAAIMYAAgDEGEAAgBgDCAAQYwABAGIMIABAjAEEAIgxgAAAMQYQACDGAAIAxBhAAIAYAwgAEGMAAQBiDCAAQIwBBACIMYAAADEGEAAgxgACAMQYQACAGAMIABBjAAEAYgwgAECMAQQAiDGAAAAxBhAAIMYAAgDEGEAAgBgDCAAQYwABAGIMIABAjAEEAIgxgAAAMQYQACDGAAIAxBhAAIAYAwgAEGMAAQBiDCAAQIwBBACIMYAAADEGEAAgxgACAMQYQACAGAMIABBjAAEAYgwgAECMAQQAiDGAAAAxBhAAIMYAAgDEGEAAgBgDCAAQYwABAGIMIABAjAEEAIgxgAAAMQYQACDGAAIAxBhAAIAYAwgAEGMAAQBiDCAAQIwBBACIMYAAADEGEAAgxgACAMQYQACAGAMIABBjAAEAYgwgAECMAQQAiDGAAAAxBhAAIMYAAgDEGEAAgBgDCAAQYwABAGIMIABAjAEEAIgxgAAAMQYQACDGAAIAxBhAAIAYAwgAEGMAAQBiDCAAQIwBBACIMYAAADEGEAAgxgACAMQYQACAGAMIABBjAAEAYgwgAECMAQQAiDGAAAAxBhAAIMYAAgDEGEAAgBgDCAAQYwABAGIMIABAjAEEAIgxgAAAMQYQACDGAAIAxBhAAIAYAwgAEGMAAQBiDCAAQIwBBACIMYAAADEGEAAgxgACAMQYQACAGAMIABBjAAEAYgwgAECMAQQAiDGAAAAxBhAAIMYAAgDEGEAAgBgDCAAQYwABAGIMIABAjAEEAIgxgAAAMQYQACDGAAIAxBhAAIAYAwgAEGMAAQBiDCAAQIwBBACIMYAAADEGEAAgxgACAMQYQACAGAMIABBjAAEAYgwgAECMAQQAiDGAAAAxBhAAIMYAAgDEGEAAgBgDCAAQYwABAGIMIABAjAEEAIgxgAAAMQYQACDGAAIAxBhAAIAYAwgAEGMAAQBiDCAAQIwBBACIMYAAADEGEAAgxgACAMQYQACAGAMIABBjAAEAYgwgAECMAQQAiDGAAAAxBhAAIMYAAgDEGEAAgBgDCAAQYwABAGIuJnkHvKensmIAAAAASUVORK5CYII=' width=640.0/>\n",
       "            </div>\n",
       "        "
      ],
      "text/plain": [
       "Canvas(toolbar=Toolbar(toolitems=[('Home', 'Reset original view', 'home', 'home'), ('Back', 'Back to previous …"
      ]
     },
     "metadata": {},
     "output_type": "display_data"
    }
   ],
   "source": [
    "# Quick to start\n",
    "a = animation.FuncAnimation(plt.figure(), update, interval=100, cache_frame_data=False)\n",
    "\n",
    "# Now tell the widget back end it's time to show!\n",
    "plt.show()"
   ]
  },
  {
   "cell_type": "markdown",
   "id": "aab7ac22",
   "metadata": {},
   "source": [
    "Aqui vamos nós. Um bom exemplo de como a amostragem de uma distribuição pode ser usada com uma animação.\n",
    "\n",
    "FuncAnimation, como a maioria das outras classes no pacote animation, é uma subclasse do objeto animation. O objeto de animação tem uma função de segurança útil, que permite gravar a animação em um arquivo. Isso requer uma biblioteca adicional de terceiros, como o FFMpeg, que pode demorar um pouco para instalar e configurar. Mas o resultado é que você pode exportar facilmente suas animações diretamente do ambiente de programação da Web do Júpiter.\n",
    "\n",
    "Você sabe, uma animação de figura com quatro subtramas, uma para cada tipo de distribuição que podemos estar interessados em entender, pode ser bem legal de se ver. Poderíamos traçar as amostras para a distribuição normal em um, para uma distribuição gama em outro, e talvez algumas distribuições parametrizadas como a distribuição normal com diferentes níveis de desvio padrão. Esta seria uma ótima maneira de praticar as habilidades que você aprendeu neste módulo, pois exigiria que você gerenciasse vários sub-enredos dentro de uma animação usando histogramas. Se você quiser enfrentar esse desafio, colocarei um link no shell do curso para um caderno de prática opcional para você dar uma olhada."
   ]
  },
  {
   "cell_type": "code",
   "execution_count": null,
   "id": "09682705",
   "metadata": {},
   "outputs": [],
   "source": []
  }
 ],
 "metadata": {
  "kernelspec": {
   "display_name": "Python 3",
   "language": "python",
   "name": "python3"
  },
  "language_info": {
   "codemirror_mode": {
    "name": "ipython",
    "version": 3
   },
   "file_extension": ".py",
   "mimetype": "text/x-python",
   "name": "python",
   "nbconvert_exporter": "python",
   "pygments_lexer": "ipython3",
   "version": "3.8.1"
  }
 },
 "nbformat": 4,
 "nbformat_minor": 5
}
