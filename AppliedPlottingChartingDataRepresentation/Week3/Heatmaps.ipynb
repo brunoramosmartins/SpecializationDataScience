{
 "cells": [
  {
   "cell_type": "markdown",
   "id": "96f70284",
   "metadata": {},
   "source": [
    "# Heatmaps"
   ]
  },
  {
   "cell_type": "markdown",
   "id": "f556ee97",
   "metadata": {},
   "source": [
    "Os mapas de calor são uma forma de visualizar três dimensões de dados e aproveitar a proximidade espacial dessas dimensões.\n",
    "\n",
    "Ao fazer revisões neste curso, fiquei realmente tentado a me livrar da seção sobre mapas de calor, pois já vi mapas de calor ruins o suficiente para durar uma vida inteira. O problema é que os mapas de calor são realmente muito poderosos quando você tem os dados corretos. Os dados meteorológicos são um ótimo exemplo. Você tem duas dimensões, latitude e longitude, e então podemos sobrepor uma terceira dimensão, digamos, temperatura ou quantidade de chuva e usar cores para indicar sua intensidade.\n",
    "\n",
    "Na verdade, qualquer coisa com um aspecto espacial bidimensional pode criar um mapa de calor natural. Por exemplo, os pontos de fixação ocular por meio da detecção do olhar são usados regularmente por pesquisadores e especialistas em marketing para entender o que as pessoas estão olhando nos sites. Mas onde os mapas de calor falham é quando não há relação contínua - ou pelo menos ordinal - entre as dimensões. Usar um mapa de calor para dados categóricos, por exemplo, é simplesmente errado. Isso induz o espectador a procurar padrões e ordenar por meio da proximidade espacial. E quaisquer desses padrões seriam puramente espúrios.\n",
    "\n",
    "Mas resolvi manter isso no curso, pois pode ser útil, e montei um novo exemplo usando dados ordenados, então vamos falar sobre as técnicas. No matplotlib, um mapa de calor é simplesmente um histograma bidimensional onde os valores x e y indicam pontos potenciais e a cor plotada é a frequência da observação."
   ]
  },
  {
   "cell_type": "code",
   "execution_count": 1,
   "id": "5e31cf58",
   "metadata": {},
   "outputs": [],
   "source": [
    "# Let's bring in matplotlib and numpy, as well as pandas and some date time functionality\n",
    "import matplotlib.pyplot as plt\n",
    "import numpy as np\n",
    "import pandas as pd\n",
    "from datetime import datetime"
   ]
  },
  {
   "cell_type": "code",
   "execution_count": 4,
   "id": "d3c4f4fb",
   "metadata": {},
   "outputs": [
    {
     "data": {
      "text/html": [
       "<div>\n",
       "<style scoped>\n",
       "    .dataframe tbody tr th:only-of-type {\n",
       "        vertical-align: middle;\n",
       "    }\n",
       "\n",
       "    .dataframe tbody tr th {\n",
       "        vertical-align: top;\n",
       "    }\n",
       "\n",
       "    .dataframe thead th {\n",
       "        text-align: right;\n",
       "    }\n",
       "</style>\n",
       "<table border=\"1\" class=\"dataframe\">\n",
       "  <thead>\n",
       "    <tr style=\"text-align: right;\">\n",
       "      <th></th>\n",
       "      <th>Plaza ID</th>\n",
       "      <th>Date</th>\n",
       "      <th>Hour</th>\n",
       "      <th>Direction</th>\n",
       "      <th># Vehicles - E-ZPass</th>\n",
       "      <th># Vehicles - VToll</th>\n",
       "    </tr>\n",
       "  </thead>\n",
       "  <tbody>\n",
       "    <tr>\n",
       "      <th>0</th>\n",
       "      <td>21</td>\n",
       "      <td>2022-08-06</td>\n",
       "      <td>0</td>\n",
       "      <td>I</td>\n",
       "      <td>2820</td>\n",
       "      <td>649</td>\n",
       "    </tr>\n",
       "    <tr>\n",
       "      <th>1</th>\n",
       "      <td>21</td>\n",
       "      <td>2022-08-06</td>\n",
       "      <td>1</td>\n",
       "      <td>I</td>\n",
       "      <td>2124</td>\n",
       "      <td>474</td>\n",
       "    </tr>\n",
       "    <tr>\n",
       "      <th>2</th>\n",
       "      <td>21</td>\n",
       "      <td>2022-08-06</td>\n",
       "      <td>2</td>\n",
       "      <td>I</td>\n",
       "      <td>1617</td>\n",
       "      <td>391</td>\n",
       "    </tr>\n",
       "    <tr>\n",
       "      <th>3</th>\n",
       "      <td>21</td>\n",
       "      <td>2022-08-06</td>\n",
       "      <td>3</td>\n",
       "      <td>I</td>\n",
       "      <td>1228</td>\n",
       "      <td>358</td>\n",
       "    </tr>\n",
       "    <tr>\n",
       "      <th>4</th>\n",
       "      <td>21</td>\n",
       "      <td>2022-08-06</td>\n",
       "      <td>4</td>\n",
       "      <td>I</td>\n",
       "      <td>1604</td>\n",
       "      <td>368</td>\n",
       "    </tr>\n",
       "  </tbody>\n",
       "</table>\n",
       "</div>"
      ],
      "text/plain": [
       "   Plaza ID       Date  Hour Direction  # Vehicles - E-ZPass  \\\n",
       "0        21 2022-08-06     0         I                  2820   \n",
       "1        21 2022-08-06     1         I                  2124   \n",
       "2        21 2022-08-06     2         I                  1617   \n",
       "3        21 2022-08-06     3         I                  1228   \n",
       "4        21 2022-08-06     4         I                  1604   \n",
       "\n",
       "   # Vehicles - VToll  \n",
       "0                 649  \n",
       "1                 474  \n",
       "2                 391  \n",
       "3                 358  \n",
       "4                 368  "
      ]
     },
     "execution_count": 4,
     "metadata": {},
     "output_type": "execute_result"
    }
   ],
   "source": [
    "# In this example I want to show you some traffic data from New York City, which is\n",
    "# all available from NYC open data portal.\n",
    "df=pd.read_csv(\"assets/NYC hourly traffic.csv\")\n",
    "\n",
    "# I'm going to convert the date column into a date and time\n",
    "df[\"Date\"]=df[\"Date\"].apply(pd.to_datetime)\n",
    "\n",
    "df.head()"
   ]
  },
  {
   "cell_type": "markdown",
   "id": "2e39ef96",
   "metadata": {},
   "source": [
    "Isso pode demorar um pouco para carregar se você estiver acompanhando no Coursera, é um grande conjunto de dados. Vamos reduzi-lo em tamanho e fazer algumas análises básicas de dados exploratórios com histogramas. Digamos que estou interessado em uma única praça (localização da câmera) e datas para o início de 2017. Vou escrever uma consulta de pandas para fazer isso"
   ]
  },
  {
   "cell_type": "code",
   "execution_count": 5,
   "id": "918c669a",
   "metadata": {},
   "outputs": [
    {
     "data": {
      "text/html": [
       "<div>\n",
       "<style scoped>\n",
       "    .dataframe tbody tr th:only-of-type {\n",
       "        vertical-align: middle;\n",
       "    }\n",
       "\n",
       "    .dataframe tbody tr th {\n",
       "        vertical-align: top;\n",
       "    }\n",
       "\n",
       "    .dataframe thead th {\n",
       "        text-align: right;\n",
       "    }\n",
       "</style>\n",
       "<table border=\"1\" class=\"dataframe\">\n",
       "  <thead>\n",
       "    <tr style=\"text-align: right;\">\n",
       "      <th></th>\n",
       "      <th>Plaza ID</th>\n",
       "      <th>Date</th>\n",
       "      <th>Hour</th>\n",
       "      <th>Direction</th>\n",
       "      <th># Vehicles - E-ZPass</th>\n",
       "      <th># Vehicles - VToll</th>\n",
       "    </tr>\n",
       "  </thead>\n",
       "  <tbody>\n",
       "    <tr>\n",
       "      <th>735652</th>\n",
       "      <td>5</td>\n",
       "      <td>2017-04-29</td>\n",
       "      <td>0</td>\n",
       "      <td>I</td>\n",
       "      <td>216</td>\n",
       "      <td>25</td>\n",
       "    </tr>\n",
       "    <tr>\n",
       "      <th>735653</th>\n",
       "      <td>5</td>\n",
       "      <td>2017-04-29</td>\n",
       "      <td>0</td>\n",
       "      <td>O</td>\n",
       "      <td>100</td>\n",
       "      <td>23</td>\n",
       "    </tr>\n",
       "    <tr>\n",
       "      <th>735654</th>\n",
       "      <td>5</td>\n",
       "      <td>2017-04-29</td>\n",
       "      <td>1</td>\n",
       "      <td>I</td>\n",
       "      <td>111</td>\n",
       "      <td>21</td>\n",
       "    </tr>\n",
       "    <tr>\n",
       "      <th>735655</th>\n",
       "      <td>5</td>\n",
       "      <td>2017-04-29</td>\n",
       "      <td>1</td>\n",
       "      <td>O</td>\n",
       "      <td>53</td>\n",
       "      <td>18</td>\n",
       "    </tr>\n",
       "    <tr>\n",
       "      <th>735656</th>\n",
       "      <td>5</td>\n",
       "      <td>2017-04-29</td>\n",
       "      <td>2</td>\n",
       "      <td>I</td>\n",
       "      <td>72</td>\n",
       "      <td>16</td>\n",
       "    </tr>\n",
       "    <tr>\n",
       "      <th>...</th>\n",
       "      <td>...</td>\n",
       "      <td>...</td>\n",
       "      <td>...</td>\n",
       "      <td>...</td>\n",
       "      <td>...</td>\n",
       "      <td>...</td>\n",
       "    </tr>\n",
       "    <tr>\n",
       "      <th>773399</th>\n",
       "      <td>5</td>\n",
       "      <td>2016-12-31</td>\n",
       "      <td>21</td>\n",
       "      <td>O</td>\n",
       "      <td>234</td>\n",
       "      <td>54</td>\n",
       "    </tr>\n",
       "    <tr>\n",
       "      <th>773400</th>\n",
       "      <td>5</td>\n",
       "      <td>2016-12-31</td>\n",
       "      <td>22</td>\n",
       "      <td>I</td>\n",
       "      <td>180</td>\n",
       "      <td>46</td>\n",
       "    </tr>\n",
       "    <tr>\n",
       "      <th>773401</th>\n",
       "      <td>5</td>\n",
       "      <td>2016-12-31</td>\n",
       "      <td>22</td>\n",
       "      <td>O</td>\n",
       "      <td>177</td>\n",
       "      <td>40</td>\n",
       "    </tr>\n",
       "    <tr>\n",
       "      <th>773402</th>\n",
       "      <td>5</td>\n",
       "      <td>2016-12-31</td>\n",
       "      <td>23</td>\n",
       "      <td>I</td>\n",
       "      <td>126</td>\n",
       "      <td>30</td>\n",
       "    </tr>\n",
       "    <tr>\n",
       "      <th>773403</th>\n",
       "      <td>5</td>\n",
       "      <td>2016-12-31</td>\n",
       "      <td>23</td>\n",
       "      <td>O</td>\n",
       "      <td>143</td>\n",
       "      <td>37</td>\n",
       "    </tr>\n",
       "  </tbody>\n",
       "</table>\n",
       "<p>5760 rows × 6 columns</p>\n",
       "</div>"
      ],
      "text/plain": [
       "        Plaza ID       Date  Hour Direction  # Vehicles - E-ZPass  \\\n",
       "735652         5 2017-04-29     0         I                   216   \n",
       "735653         5 2017-04-29     0         O                   100   \n",
       "735654         5 2017-04-29     1         I                   111   \n",
       "735655         5 2017-04-29     1         O                    53   \n",
       "735656         5 2017-04-29     2         I                    72   \n",
       "...          ...        ...   ...       ...                   ...   \n",
       "773399         5 2016-12-31    21         O                   234   \n",
       "773400         5 2016-12-31    22         I                   180   \n",
       "773401         5 2016-12-31    22         O                   177   \n",
       "773402         5 2016-12-31    23         I                   126   \n",
       "773403         5 2016-12-31    23         O                   143   \n",
       "\n",
       "        # Vehicles - VToll  \n",
       "735652                  25  \n",
       "735653                  23  \n",
       "735654                  21  \n",
       "735655                  18  \n",
       "735656                  16  \n",
       "...                    ...  \n",
       "773399                  54  \n",
       "773400                  46  \n",
       "773401                  40  \n",
       "773402                  30  \n",
       "773403                  37  \n",
       "\n",
       "[5760 rows x 6 columns]"
      ]
     },
     "execution_count": 5,
     "metadata": {},
     "output_type": "execute_result"
    }
   ],
   "source": [
    "sample=df.query(\"`Plaza ID`==5 & Date>'2016-12-30' & Date<'2017-05-01'\")\n",
    "sample"
   ]
  },
  {
   "cell_type": "markdown",
   "id": "ab7b8e36",
   "metadata": {},
   "source": [
    "Essa sintaxe pode parecer um pouco diferente para você do nosso primeiro curso. Esta é uma maneira alternativa de consultar um dataframe e usa uma biblioteca chamada `numexpr` para pegar uma consulta como uma string e aplicá-la ao dataframe. É um pouco como o SQL em sua sintaxe, se você estiver familiarizado com isso, mas tem muitas ressalvas. Eu queria expô-lo para que você soubesse, mas é completamente possível usar o método de mascaramento booleano regular que mostrei no curso 1. Agora seria um ótimo momento para pausar o vídeo, abrir o notebook e ver se você pode reescrever esta consulta usando o conhecimento que já possui sobre mascaramento booleano.\n",
    "\n",
    "Temos a hora do dia aqui, então vamos dar uma olhada em um histograma de atividade ao longo do dia."
   ]
  },
  {
   "cell_type": "markdown",
   "id": "e7fb2576",
   "metadata": {},
   "source": [
    "Como temos 24 horas em um dia, colocarei as caixas lá e quero para ver nossa frequência -- os pesos de cada bin -- como o número de veículos que possuem o sistema E-ZPass. Este sistema cobra automaticamente motoristas para usar a estrada e já foi agregado (somado) para nós a partir de observações individuais"
   ]
  },
  {
   "cell_type": "code",
   "execution_count": 6,
   "id": "6bbd8564",
   "metadata": {},
   "outputs": [
    {
     "data": {
      "image/png": "[encoded data removed]",
      "text/plain": [
       "<Figure size 432x288 with 1 Axes>"
      ]
     },
     "metadata": {
      "needs_background": "light"
     },
     "output_type": "display_data"
    }
   ],
   "source": [
    "plt.hist(sample[\"Hour\"],bins=24,weights=sample[\"# Vehicles - E-ZPass\"]);"
   ]
  },
  {
   "cell_type": "markdown",
   "id": "abbc87be",
   "metadata": {},
   "source": [
    "Ok, o que você percebe aqui? Vejo dois picos, de manhã por volta das 7h30 e à tarde começando por volta das 3 até as 6. Parece hora do rush!\n",
    "\n",
    "Neste exemplo, nossas horas são ordenadas, portanto, faz sentido visualizar os dados dessa maneira. Mas também temos dias da semana que são ordenados. Vamos extrair o dia da semana e ver um histograma disso."
   ]
  },
  {
   "cell_type": "code",
   "execution_count": 7,
   "id": "dc3ff0fd",
   "metadata": {},
   "outputs": [
    {
     "name": "stderr",
     "output_type": "stream",
     "text": [
      "<ipython-input-7-36b5420c3ff8>:7: SettingWithCopyWarning: \n",
      "A value is trying to be set on a copy of a slice from a DataFrame.\n",
      "Try using .loc[row_indexer,col_indexer] = value instead\n",
      "\n",
      "See the caveats in the documentation: https://pandas.pydata.org/pandas-docs/stable/user_guide/indexing.html#returning-a-view-versus-a-copy\n",
      "  sample[\"Day of Week\"]=sample[\"Date\"].dt.dayofweek\n"
     ]
    },
    {
     "data": {
      "image/png": "[encoded data removed]",
      "text/plain": [
       "<Figure size 432x288 with 1 Axes>"
      ]
     },
     "metadata": {
      "needs_background": "light"
     },
     "output_type": "display_data"
    }
   ],
   "source": [
    "# Podemos extrair o dia da semana da coluna Data usando o\n",
    "# recursos de data e hora do pandas. O objeto Series em pandas tem um\n",
    "# atributo \"dt\" que armazena inúmeras transformações de data e hora para\n",
    "# nós porque é uma necessidade tão comum. Neste caso, apenas tomamos o\n",
    "# Coluna de data (que é um objeto Series) e obtenha o .dt.dayofweek\n",
    "# a partir dele.\n",
    "\n",
    "sample[\"Day of Week\"]=sample[\"Date\"].dt.dayofweek\n",
    "\n",
    "# Once we have done that we can just look at a histogram\n",
    "plt.hist(sample[\"Day of Week\"],bins=7,weights=sample[\"# Vehicles - E-ZPass\"]);"
   ]
  },
  {
   "cell_type": "markdown",
   "id": "3b3c33d2",
   "metadata": {},
   "source": [
    "Ok, então podemos ver que o fluxo de tráfego é bastante estável, exceto nos dias 5 e 6 da semana, que são os finais de semana. Agora, poderíamos isolar esses dias e observar os histogramas individuais para o tráfego horário, mas também podemos observar um histograma conjunto - ou um mapa de calor - para as variáveis horárias e diárias. Quando fazemos isso, definimos uma variável para ser o eixo x, outra para ser o eixo y, e então renderizamos nossa frequência (nossos pesos) como cores diferentes mostrando a terceira dimensão."
   ]
  },
  {
   "cell_type": "code",
   "execution_count": 8,
   "id": "4f6dbc28",
   "metadata": {},
   "outputs": [
    {
     "data": {
      "image/png": "[encoded data removed]",
      "text/plain": [
       "<Figure size 864x576 with 2 Axes>"
      ]
     },
     "metadata": {
      "needs_background": "light"
     },
     "output_type": "display_data"
    }
   ],
   "source": [
    "# While it sounds like a lot of work, it isn't really in matplotlib!\n",
    "# The API looks almost the same as a regular histogram, but in this\n",
    "# case we have to specify the bin size for each axis\n",
    "plt.figure(figsize=(12,8)) # make a slightly bigger figure\n",
    "plt.hist2d(sample[\"Hour\"],\n",
    "           sample[\"Day of Week\"],\n",
    "           bins=[24,7],\n",
    "           weights=sample[\"# Vehicles - E-ZPass\"])\n",
    "\n",
    "# This next part is optional, but adds a legend telling you the value\n",
    "# of each bin (cell) in the histogram\n",
    "plt.colorbar();"
   ]
  },
  {
   "cell_type": "markdown",
   "id": "15d8071c",
   "metadata": {},
   "source": [
    "Ótimo! Então vamos dissecar isso. Primeiro, vemos que em todos os dias (nosso eixo y) as primeiras quatro horas do dia são azuis escuras (essas são as primeiras quatro colunas ou mais), indicando relativamente pouco tráfego. Então vemos que para os dias 0 a 4 temos um pico no tráfego, mostrado como mais células de intensidade amarela na imagem, mas isso não é verdade para os últimos dois dias da semana (o fim de semana - as duas primeiras linhas ).\n",
    "\n",
    "Os dados de tempo são um caso interessante para usar mapas de calor, porque geralmente temos ciclos de atividade dentro de um período de tempo -- neste caso semanas -- e isso nos permite ter duas dimensões ordenadas.\n",
    "\n",
    "Agora seria um bom momento para você assumir o controle e ver se consegue olhar para uma dimensão diferente - meses. Você poderia traçar um mapa de calor onde um eixo é meses e o outro é, digamos, semana do mês?"
   ]
  },
  {
   "cell_type": "code",
   "execution_count": null,
   "id": "294a918d",
   "metadata": {},
   "outputs": [],
   "source": []
  }
 ],
 "metadata": {
  "kernelspec": {
   "display_name": "Python 3",
   "language": "python",
   "name": "python3"
  },
  "language_info": {
   "codemirror_mode": {
    "name": "ipython",
    "version": 3
   },
   "file_extension": ".py",
   "mimetype": "text/x-python",
   "name": "python",
   "nbconvert_exporter": "python",
   "pygments_lexer": "ipython3",
   "version": "3.8.1"
  }
 },
 "nbformat": 4,
 "nbformat_minor": 5
}
