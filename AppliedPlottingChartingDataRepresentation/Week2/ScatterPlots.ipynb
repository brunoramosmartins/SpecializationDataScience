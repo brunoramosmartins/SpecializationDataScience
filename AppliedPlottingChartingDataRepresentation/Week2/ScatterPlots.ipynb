{
 "cells": [
  {
   "cell_type": "markdown",
   "id": "cd453d75",
   "metadata": {},
   "source": [
    "# Scatter Plots"
   ]
  },
  {
   "cell_type": "markdown",
   "id": "fad69c93",
   "metadata": {},
   "source": [
    "Na aula anterior, apresentei a função `plot`, que gera uma série de pontos que são renderizados em relação a um objeto `Axes`.\n",
    "Na verdade, o Matplotlib possui vários métodos de plotagem úteis na camada de script que correspondem a diferentes tipos de plotagens que podemos usar. Não vamos passar por todos eles aqui, mas vamos tocar em alguns dos principais. Independentemente disso, há algumas coisas a serem lembradas que aprendemos na palestra anterior.\n",
    "1. Primeiro, o pyplot vai recuperar a figura atual com a função `gcf` e então obter o eixo atual com a função `gca`. O Pyplot está acompanhando os objetos do eixo para você. Mas não se esqueça que eles estão lá e podemos pegá-los quando quisermos pegá-los.\n",
    "2. Em segundo lugar, o pyplot apenas espelha a API dos objetos `Axes`. Então você pode chamar a função `plot` contra o módulo pyplot, e isso é apenas chamar as funções de plotagem do eixo abaixo.\n",
    "3. Por fim, lembre-se de que a declaração de função da maioria das funções em matplotlib termina com um conjunto aberto de argumentos de palavra-chave. Existem muitas propriedades diferentes que você pode controlar por meio desses argumentos de palavra-chave e não as encontrará descritas para cada função nos documentos. Isso pode ser um pouco frustrante porque você acaba tendo que aprender com exemplos.\n",
    "\n",
    "Vou começar a incluir alguns deles esta semana para demonstrar que a documentação do matplotlib é realmente fundamental para obter uma compreensão completa das opções disponíveis."
   ]
  },
  {
   "cell_type": "markdown",
   "id": "1800cf27",
   "metadata": {},
   "source": [
    "Com isso em mente, vamos falar primeiro sobre gráficos de dispersão.\n",
    "\n",
    "Um gráfico de dispersão é um gráfico bidimensional semelhante aos gráficos de linha que mostrei. A função de dispersão usa um valor do eixo x como primeiro argumento e o valor do eixo y como segundo. Se os dois argumentos forem iguais, obtemos um bom alinhamento diagonal de pontos."
   ]
  },
  {
   "cell_type": "code",
   "execution_count": 1,
   "id": "c72d98cb",
   "metadata": {},
   "outputs": [],
   "source": [
    "# Let's bring in the scripting interface\n",
    "import matplotlib.pyplot as plt"
   ]
  },
  {
   "cell_type": "code",
   "execution_count": 2,
   "id": "ab10edf3",
   "metadata": {},
   "outputs": [
    {
     "data": {
      "image/png": "[encoded data removed]",
      "text/plain": [
       "<Figure size 432x288 with 1 Axes>"
      ]
     },
     "metadata": {
      "needs_background": "light"
     },
     "output_type": "display_data"
    }
   ],
   "source": [
    "# I'll bring in numpy as we're going to use it later and matplotlib is really based on numpy arrays. \n",
    "import numpy as np\n",
    "\n",
    "# Now let's create some fake data\n",
    "x = np.array([1,2,3,4,5,6,7,8])\n",
    "y = x\n",
    "\n",
    "# Let's create a new figure\n",
    "plt.figure()\n",
    "# And now let's get matplotlib to produce a scatter plot. This is similar to plt.plot(x, y, '.'), but\n",
    "# the underlying child objects in the axes are not Line2D\n",
    "plt.scatter(x, y); "
   ]
  },
  {
   "cell_type": "markdown",
   "id": "a62911db",
   "metadata": {},
   "source": [
    "Agora, `scatter` não representa itens como uma série como `plot` fazia, em vez disso, podemos passar uma lista de cores que correspondem a determinados pontos. Vamos usar alguma aritmética de lista para criar uma nova lista um pouco abaixo do número de pontos de dados de que precisamos e definir todos os valores como verde. Em seguida, adicionaremos um valor final de vermelho."
   ]
  },
  {
   "cell_type": "code",
   "execution_count": 3,
   "id": "6dbfa524",
   "metadata": {},
   "outputs": [
    {
     "data": {
      "image/png": "[encoded data removed]",
      "text/plain": [
       "<Figure size 432x288 with 1 Axes>"
      ]
     },
     "metadata": {
      "needs_background": "light"
     },
     "output_type": "display_data"
    }
   ],
   "source": [
    "#Some new fake data\n",
    "x = np.array([1,2,3,4,5,6,7,8])\n",
    "y = x\n",
    "\n",
    "# create a list of colors for each point to have\n",
    "# ['green', 'green', 'green', 'green', 'green', 'green', 'green', 'red']\n",
    "colors = ['green']*(len(x)-1)\n",
    "colors.append('red')\n",
    "\n",
    "# create our new figure\n",
    "plt.figure()\n",
    "\n",
    "# plot the point with size 100 and our chosen color list\n",
    "plt.scatter(x, y, s=100, c=colors);"
   ]
  },
  {
   "cell_type": "markdown",
   "id": "67dc8c10",
   "metadata": {},
   "source": [
    "A separação de pontos de dados em listas, que os descreve como componentes é um padrão bastante comum no matplotlib. Você tem algum conjunto de itens, mas na verdade eles são descritos como a mesma fatia em muitas fontes de dados diferentes.\n",
    "\n",
    "Aqueles que estão familiarizados com a programação de objetos podem esperar que cada ponto de dados seja representado com sua própria instância, que encapsula todas as suas propriedades. Por exemplo, um ponto tem um valor x e um valor y e uma cor e um tamanho. Esse não é o caso aqui. É aqui que é útil ter algum conhecimento de compreensão de lista e lambdas, conforme falamos no primeiro curso. Também é importante a função zip e a descompactação da lista. E como isso é tão comum no mundo da ciência de dados do Python, vou fazer um breve aparte e falar sobre isso aqui.\n",
    "\n",
    "Lembre-se de que o método zip pega um número de iteráveis e cria tuplas a partir deles, combinando elementos com base no índice. Portanto, se tivermos duas listas de números, o zip pegará a primeira de cada uma e criará uma tupla, depois a segunda de cada uma e criará uma tupla e assim por diante.\n",
    "\n",
    "Lembre-se também que o zip tem avaliação preguiçosa porque na verdade é um gerador em Python 3, o que significa que precisamos usar a função `list` se quisermos ver os resultados da iteração sobre o zip.\n",
    "\n",
    "Vamos demonstrar. Aqui criaremos um novo gerador de zip com uma função zip passando duas listas de números. Quando convertemos este gerador em uma lista, vemos que há uma lista de tuplas pareadas."
   ]
  },
  {
   "cell_type": "code",
   "execution_count": 4,
   "id": "494294ab",
   "metadata": {},
   "outputs": [
    {
     "name": "stdout",
     "output_type": "stream",
     "text": [
      "[(1, 6), (2, 7), (3, 8), (4, 9), (5, 10)]\n",
      "(1, 6) (2, 7) (3, 8) (4, 9) (5, 10)\n"
     ]
    }
   ],
   "source": [
    "# convert the two lists into a list of pairwise tuples\n",
    "zip_generator = zip([1,2,3,4,5], [6,7,8,9,10])\n",
    "\n",
    "print(list(zip_generator))\n",
    "# the above prints:\n",
    "# [(1, 6), (2, 7), (3, 8), (4, 9), (5, 10)]\n",
    "\n",
    "# let's do that again, but this time let's use unpacking instead of list\n",
    "zip_generator = zip([1,2,3,4,5], [6,7,8,9,10])\n",
    "# The single star * unpacks a collection into positional arguments\n",
    "print(*zip_generator)\n",
    "# the above prints:\n",
    "# (1, 6) (2, 7) (3, 8) (4, 9) (5, 10)"
   ]
  },
  {
   "cell_type": "markdown",
   "id": "2a474780",
   "metadata": {},
   "source": [
    "Armazenar dados de ponto como tuplas é comum e você deve estar familiarizado com a capacidade de converter dados de e para este formulário. Se quisermos transformar os dados em duas listas, uma com o componente x e outra com o componente y, podemos usar a descompactação de parâmetros com zip.\n",
    "\n",
    "Quando você passa uma lista ou um iterável para uma função e o precede com um asterisco, cada item é retirado do iterável e passado como um argumento separado."
   ]
  },
  {
   "cell_type": "markdown",
   "id": "547249d2",
   "metadata": {},
   "source": [
    "Portanto, este é um breve aparte sobre uma ferramenta valiosa que você verá ao manipular e limpar dados em estado selvagem. Agora, vamos voltar à plotagem. Vamos pegar essas duas listas e plotá-las em uma nova figura usando dispersão. Em vez de plotá-los como uma série de dados, dividiremos as listas e plotaremos como duas séries de dados.\n",
    "\n",
    "Em vez de definir uma cor por ponto de dados, podemos colorir cada série com um único valor, se quisermos. Também podemos fazer coisas como mudar a cor ou a transparência de uma série inteira. Também podemos adicionar um rótulo descritivo."
   ]
  },
  {
   "cell_type": "code",
   "execution_count": 5,
   "id": "8078ce8e",
   "metadata": {},
   "outputs": [
    {
     "data": {
      "image/png": "[encoded data removed]",
      "text/plain": [
       "<Figure size 432x288 with 1 Axes>"
      ]
     },
     "metadata": {
      "needs_background": "light"
     },
     "output_type": "display_data"
    }
   ],
   "source": [
    "#Create a blank figure\n",
    "plt.figure()\n",
    "# plot a data series 'Tall students' in red using the first two elements of x and y\n",
    "plt.scatter(x[:2], y[:2], s=100, c='red', label='Tall students')\n",
    "# plot a second data series 'Short students' in blue using the last three elements of x and y \n",
    "plt.scatter(x[2:], y[2:], s=100, c='blue', label='Short students');"
   ]
  },
  {
   "cell_type": "markdown",
   "id": "0883f029",
   "metadata": {},
   "source": [
    "Você notará que o rótulo não apareceu, no momento ele é apenas mantido internamente para cada série, e chegarei a isso em um minuto, mas vamos falar um pouco mais sobre as propriedades do eixo.\n",
    "\n",
    "Os eixos geralmente têm rótulos para explicar o que representam ou as unidades que descrevem. Os gráficos também costumam ter títulos, então vamos colocar isso em prática e, como o pyplot espelha grande parte da API dos objetos axes, podemos fazer chamadas diretamente com o pyplot."
   ]
  },
  {
   "cell_type": "code",
   "execution_count": 6,
   "id": "b85ece18",
   "metadata": {},
   "outputs": [
    {
     "data": {
      "image/png": "[encoded data removed]",
      "text/plain": [
       "<Figure size 432x288 with 1 Axes>"
      ]
     },
     "metadata": {
      "needs_background": "light"
     },
     "output_type": "display_data"
    }
   ],
   "source": [
    "plt.figure()\n",
    "# plot a data series 'Tall students' in red using the first two elements of x and y\n",
    "plt.scatter(x[:2], y[:2], s=100, c='red', label='Tall students')\n",
    "# plot a second data series 'Short students' in blue using the last three elements of x and y \n",
    "plt.scatter(x[2:], y[2:], s=100, c='blue', label='Short students');\n",
    "\n",
    "# add a label to the x axis\n",
    "plt.xlabel('The number of times the child kicked a ball')\n",
    "# add a label to the y axis\n",
    "plt.ylabel('The grade of the student')\n",
    "# add a title\n",
    "plt.title('Relationship between ball kicking and grades');"
   ]
  },
  {
   "cell_type": "markdown",
   "id": "78534bea",
   "metadata": {},
   "source": [
    "E vamos adicionar uma legenda também. Você verá que matplotlib coloca isso no canto superior esquerdo e coloca um pouco de visual sobre nossa série de dados lá."
   ]
  },
  {
   "cell_type": "code",
   "execution_count": 7,
   "id": "46de3605",
   "metadata": {},
   "outputs": [
    {
     "data": {
      "image/png": "[encoded data removed]",
      "text/plain": [
       "<Figure size 432x288 with 1 Axes>"
      ]
     },
     "metadata": {
      "needs_background": "light"
     },
     "output_type": "display_data"
    }
   ],
   "source": [
    "plt.figure()\n",
    "# plot a data series 'Tall students' in red using the first two elements of x and y\n",
    "plt.scatter(x[:2], y[:2], s=100, c='red', label='Tall students')\n",
    "# plot a second data series 'Short students' in blue using the last three elements of x and y \n",
    "plt.scatter(x[2:], y[2:], s=100, c='blue', label='Short students');\n",
    "\n",
    "# add a label to the x axis\n",
    "plt.xlabel('The number of times the child kicked a ball')\n",
    "# add a label to the y axis\n",
    "plt.ylabel('The grade of the student')\n",
    "# add a title\n",
    "plt.title('Relationship between ball kicking and grades');\n",
    "# add a legend (uses the labels from plt.scatter)\n",
    "plt.legend();"
   ]
  },
  {
   "cell_type": "markdown",
   "id": "2b05ea7a",
   "metadata": {},
   "source": [
    "Nos documentos da legenda, você verá que há vários parâmetros diferentes e um deles é chamado de bloqueio. E um valor de 4, vamos colocá-lo no canto inferior direito do eixo.\n",
    "\n",
    "Também poderíamos nos livrar do quadro e adicionar um título e fazer várias transformações diferentes."
   ]
  },
  {
   "cell_type": "code",
   "execution_count": 8,
   "id": "23e2af3b",
   "metadata": {},
   "outputs": [
    {
     "data": {
      "image/png": "[encoded data removed]",
      "text/plain": [
       "<Figure size 432x288 with 1 Axes>"
      ]
     },
     "metadata": {
      "needs_background": "light"
     },
     "output_type": "display_data"
    }
   ],
   "source": [
    "f=plt.figure()\n",
    "# plot a data series 'Tall students' in red using the first two elements of x and y\n",
    "plt.scatter(x[:2], y[:2], s=100, c='red', label='Tall students')\n",
    "# plot a second data series 'Short students' in blue using the last three elements of x and y \n",
    "plt.scatter(x[2:], y[2:], s=100, c='blue', label='Short students');\n",
    "\n",
    "# add a label to the x axis\n",
    "plt.xlabel('The number of times the child kicked a ball')\n",
    "# add a label to the y axis\n",
    "plt.ylabel('The grade of the student')\n",
    "# add a title\n",
    "plt.title('Relationship between ball kicking and grades');\n",
    "# add the legend to loc=4 (the lower right hand corner), also gets rid of the frame and adds a title\n",
    "plt.legend(loc=4, frameon=False, title='Legend');"
   ]
  },
  {
   "cell_type": "markdown",
   "id": "4cd06d49",
   "metadata": {},
   "source": [
    "Agora, todas as coisas que mostrei são objetos renderizáveis associados aos eixos. A lenda, por exemplo, é um artista, o que significa que pode conter crianças. Vamos aproveitar isso e escrever uma pequena rotina para percorrer recursivamente a lista de filhos em um artista."
   ]
  },
  {
   "cell_type": "code",
   "execution_count": 11,
   "id": "76e85fa8",
   "metadata": {},
   "outputs": [
    {
     "name": "stdout",
     "output_type": "stream",
     "text": [
      "Legend\n",
      "    <matplotlib.offsetbox.VPacker object at 0x000002B233666700>\n",
      "        <matplotlib.offsetbox.TextArea object at 0x000002B233661F10>\n",
      "            Text(0, 0, '')\n",
      "        <matplotlib.offsetbox.HPacker object at 0x000002B233661E50>\n",
      "            <matplotlib.offsetbox.VPacker object at 0x000002B2336664C0>\n",
      "                <matplotlib.offsetbox.HPacker object at 0x000002B233666430>\n",
      "                    <matplotlib.offsetbox.DrawingArea object at 0x000002B233661B50>\n",
      "                        <matplotlib.collections.PathCollection object at 0x000002B233661970>\n",
      "                    <matplotlib.offsetbox.TextArea object at 0x000002B233661E80>\n",
      "                        Text(0, 0, 'Tall students')\n",
      "                <matplotlib.offsetbox.HPacker object at 0x000002B233666460>\n",
      "                    <matplotlib.offsetbox.DrawingArea object at 0x000002B2336661C0>\n",
      "                        <matplotlib.collections.PathCollection object at 0x000002B233666340>\n",
      "                    <matplotlib.offsetbox.TextArea object at 0x000002B233661BB0>\n",
      "                        Text(0, 0, 'Short students')\n",
      "    FancyBboxPatch((0, 0), width=1, height=1)\n"
     ]
    }
   ],
   "source": [
    "# First, we'll import the artist class from matplotlib.\n",
    "from matplotlib.artist import Artist\n",
    "\n",
    "# Then we'll make a recursive function which takes in an artist and some depth parameter.\n",
    "def rec_gc(art, depth=0):\n",
    "    # Then checks if the object is an artist and if so, prints out its string name.\n",
    "    if isinstance(art, Artist):\n",
    "        # increase the depth for pretty printing\n",
    "        print(\"  \" * depth + str(art))\n",
    "        for child in art.get_children():\n",
    "            rec_gc(child, depth+2)\n",
    "\n",
    "# Call this function on the legend artist to see what the legend is made up of\n",
    "rec_gc(f.legend())"
   ]
  },
  {
   "cell_type": "markdown",
   "id": "66666502",
   "metadata": {},
   "source": [
    "Assim, você pode ver que o artista da legenda é composto apenas por várias caixas de deslocamento diferentes para desenho, bem como TextAreas e PathCollections.\n",
    "\n",
    "O que eu quero que você entenda disso é que não há nada de mágico no que o matplotlib está fazendo. Chamadas para a interface de script, basta criar figuras, subtramas e eixos. Em seguida, carregue esses eixos com vários artistas, que o back-end renderiza na tela ou em algum outro meio, como um arquivo.\n",
    "\n",
    "Embora você gaste 95% do seu tempo na camada de script, criando alegremente gráficos e gráficos, é importante entender como a biblioteca funciona nos outros 5% do tempo.\n",
    "\n",
    "E você usará isso quando realmente quiser ter controle e criar suas próprias funções de gráfico, e terá a chance de fazer isso ao final deste curso.\n",
    "\n",
    "Na próxima aula, voltaremos aos gráficos de linhas e criaremos mais alguns gráficos de barras."
   ]
  },
  {
   "cell_type": "code",
   "execution_count": null,
   "id": "a534dbbf",
   "metadata": {},
   "outputs": [],
   "source": []
  }
 ],
 "metadata": {
  "kernelspec": {
   "display_name": "Python 3",
   "language": "python",
   "name": "python3"
  },
  "language_info": {
   "codemirror_mode": {
    "name": "ipython",
    "version": 3
   },
   "file_extension": ".py",
   "mimetype": "text/x-python",
   "name": "python",
   "nbconvert_exporter": "python",
   "pygments_lexer": "ipython3",
   "version": "3.8.1"
  }
 },
 "nbformat": 4,
 "nbformat_minor": 5
}
