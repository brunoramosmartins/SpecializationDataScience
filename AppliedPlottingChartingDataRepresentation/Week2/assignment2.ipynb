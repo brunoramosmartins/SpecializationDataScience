{
 "cells": [
  {
   "cell_type": "code",
   "execution_count": 1,
   "id": "f7c6d125",
   "metadata": {},
   "outputs": [],
   "source": [
    "import folium # O pacote folium é utilizado para renderizar os dados em um mapa no Jupyter.\n",
    "import pandas as pd\n",
    "import numpy as np\n",
    "import matplotlib.pyplot as plt\n",
    "from datetime import datetime"
   ]
  },
  {
   "cell_type": "code",
   "execution_count": 2,
   "id": "44c2ae9b",
   "metadata": {},
   "outputs": [
    {
     "data": {
      "application/javascript": [
       "IPython.OutputArea.prototype._should_scroll = function(lines) {\n",
       "    return false; // disable scroll bar when displaying Folium map\n",
       "}\n"
      ],
      "text/plain": [
       "<IPython.core.display.Javascript object>"
      ]
     },
     "metadata": {},
     "output_type": "display_data"
    }
   ],
   "source": [
    "%%javascript\n",
    "IPython.OutputArea.prototype._should_scroll = function(lines) {\n",
    "    return false; // disable scroll bar when displaying Folium map\n",
    "}"
   ]
  },
  {
   "cell_type": "markdown",
   "id": "ae273e5e",
   "metadata": {},
   "source": [
    "# Assignment 2\n",
    "\n",
    "Os dados para esta tarefa vêm de um subconjunto dos Centros Nacionais de Informações Ambientais (NCEI) [Global Historical Climatology Network daily (GHCNd)](https://www.ncei.noaa.gov/products/land-based-station/global-historical-climatology-network-daily) (GHCN-Diário). O GHCN-Daily é composto por registros climáticos diários de milhares de estações de superfície terrestre em todo o mundo - é um conjunto de dados maravilhosamente grande para brincar! Em particular, você será solicitado a usar dados do local de Ann Arbor Michigan (minha casa!). e isso é armazenado no arquivo: `assets/fb441e62df2d58994928907a91895ec62c2c42e6cd075c2700843b89.csv`\n",
    "\n",
    "Cada linha neste arquivo de dados corresponde a uma única observação de uma estação meteorológica e possui as seguintes variáveis:\n",
    "* **id**: código de identificação da estação\n",
    "* **date** : data no formato AAAA-MM-DD (por exemplo, 2012-01-24 = 24 de janeiro de 2012)\n",
    "* **element** : indicador do tipo de elemento\n",
    "     * TMAX : Temperatura máxima (décimos de graus C)\n",
    "     * TMIN : Temperatura mínima (décimos de graus C)\n",
    "* **value** : valor dos dados para o elemento (décimos de graus C)\n",
    "\n",
    "Para esta tarefa, você deve:\n",
    "\n",
    "1. Leia a documentação e familiarize-se com o conjunto de dados, em seguida, escreva um notebook python que plota gráficos de linha do recorde de alta e baixa temperatura por dia do ano durante o período de 2005-2014. A área entre as temperaturas máximas e mínimas recordes para cada dia deve ser sombreada.\n",
    "2. Sobreponha uma dispersão dos dados de 2015 para quaisquer pontos (máximos e mínimos) para os quais o recorde de dez anos (2005-2014) foi quebrado em 2015. (Com base no gráfico, você acha que o clima extremo é ficando mais frequente em 2015?)\n",
    "3. Cuidado com os dias bissextos (ou seja, 29 de fevereiro), é razoável remover esses pontos do conjunto de dados para fins desta visualização.\n",
    "4. Torne o visual agradável! Aproveite os princípios do primeiro módulo deste curso ao desenvolver sua solução. Considere questões como legendas, rótulos e lixo gráfico.\n",
    "\n",
    "Escrevi algumas etapas que acho que seriam boas de seguir, mas há outras maneiras de resolver esta tarefa, portanto, sinta-se à vontade para explorar a biblioteca de pandas! O que eu realmente quero ver é uma imagem que se pareça com este esboço que desenhei na minha mesa:\n",
    "\n",
    "![](assets/chris_sketch.png)"
   ]
  },
  {
   "cell_type": "code",
   "execution_count": 3,
   "id": "f428c273",
   "metadata": {},
   "outputs": [
    {
     "data": {
      "text/html": [
       "<div style=\"width:100%;\"><div style=\"position:relative;width:100%;height:0;padding-bottom:60%;\"><span style=\"color:#565656\">Make this Notebook Trusted to load map: File -> Trust Notebook</span><iframe srcdoc=\"&lt;!DOCTYPE html&gt;\n",
       "&lt;html&gt;\n",
       "&lt;head&gt;\n",
       "    \n",
       "    &lt;meta http-equiv=&quot;content-type&quot; content=&quot;text/html; charset=UTF-8&quot; /&gt;\n",
       "    \n",
       "        &lt;script&gt;\n",
       "            L_NO_TOUCH = false;\n",
       "            L_DISABLE_3D = false;\n",
       "        &lt;/script&gt;\n",
       "    \n",
       "    &lt;style&gt;html, body {width: 100%;height: 100%;margin: 0;padding: 0;}&lt;/style&gt;\n",
       "    &lt;style&gt;#map {position:absolute;top:0;bottom:0;right:0;left:0;}&lt;/style&gt;\n",
       "    &lt;script src=&quot;https://cdn.jsdelivr.net/npm/leaflet@1.9.3/dist/leaflet.js&quot;&gt;&lt;/script&gt;\n",
       "    &lt;script src=&quot;https://code.jquery.com/jquery-1.12.4.min.js&quot;&gt;&lt;/script&gt;\n",
       "    &lt;script src=&quot;https://cdn.jsdelivr.net/npm/bootstrap@5.2.2/dist/js/bootstrap.bundle.min.js&quot;&gt;&lt;/script&gt;\n",
       "    &lt;script src=&quot;https://cdnjs.cloudflare.com/ajax/libs/Leaflet.awesome-markers/2.0.2/leaflet.awesome-markers.js&quot;&gt;&lt;/script&gt;\n",
       "    &lt;link rel=&quot;stylesheet&quot; href=&quot;https://cdn.jsdelivr.net/npm/leaflet@1.9.3/dist/leaflet.css&quot;/&gt;\n",
       "    &lt;link rel=&quot;stylesheet&quot; href=&quot;https://cdn.jsdelivr.net/npm/bootstrap@5.2.2/dist/css/bootstrap.min.css&quot;/&gt;\n",
       "    &lt;link rel=&quot;stylesheet&quot; href=&quot;https://netdna.bootstrapcdn.com/bootstrap/3.0.0/css/bootstrap.min.css&quot;/&gt;\n",
       "    &lt;link rel=&quot;stylesheet&quot; href=&quot;https://cdn.jsdelivr.net/npm/@fortawesome/fontawesome-free@6.2.0/css/all.min.css&quot;/&gt;\n",
       "    &lt;link rel=&quot;stylesheet&quot; href=&quot;https://cdnjs.cloudflare.com/ajax/libs/Leaflet.awesome-markers/2.0.2/leaflet.awesome-markers.css&quot;/&gt;\n",
       "    &lt;link rel=&quot;stylesheet&quot; href=&quot;https://cdn.jsdelivr.net/gh/python-visualization/folium/folium/templates/leaflet.awesome.rotate.min.css&quot;/&gt;\n",
       "    \n",
       "            &lt;meta name=&quot;viewport&quot; content=&quot;width=device-width,\n",
       "                initial-scale=1.0, maximum-scale=1.0, user-scalable=no&quot; /&gt;\n",
       "            &lt;style&gt;\n",
       "                #map_4881926acb1961b50d31699304a349de {\n",
       "                    position: relative;\n",
       "                    width: 100.0%;\n",
       "                    height: 500.0px;\n",
       "                    left: 0.0%;\n",
       "                    top: 0.0%;\n",
       "                }\n",
       "                .leaflet-container { font-size: 1rem; }\n",
       "            &lt;/style&gt;\n",
       "        \n",
       "&lt;/head&gt;\n",
       "&lt;body&gt;\n",
       "    \n",
       "    \n",
       "            &lt;div class=&quot;folium-map&quot; id=&quot;map_4881926acb1961b50d31699304a349de&quot; &gt;&lt;/div&gt;\n",
       "        \n",
       "&lt;/body&gt;\n",
       "&lt;script&gt;\n",
       "    \n",
       "    \n",
       "            var map_4881926acb1961b50d31699304a349de = L.map(\n",
       "                &quot;map_4881926acb1961b50d31699304a349de&quot;,\n",
       "                {\n",
       "                    center: [41.9164, -84.0158],\n",
       "                    crs: L.CRS.EPSG3857,\n",
       "                    zoom: 9,\n",
       "                    zoomControl: true,\n",
       "                    preferCanvas: false,\n",
       "                }\n",
       "            );\n",
       "\n",
       "            \n",
       "\n",
       "        \n",
       "    \n",
       "            var tile_layer_b53df6ae417d5250f59f8018d2d4d2f4 = L.tileLayer(\n",
       "                &quot;https://{s}.tile.openstreetmap.org/{z}/{x}/{y}.png&quot;,\n",
       "                {&quot;attribution&quot;: &quot;Data by \\u0026copy; \\u003ca target=\\&quot;_blank\\&quot; href=\\&quot;http://openstreetmap.org\\&quot;\\u003eOpenStreetMap\\u003c/a\\u003e, under \\u003ca target=\\&quot;_blank\\&quot; href=\\&quot;http://www.openstreetmap.org/copyright\\&quot;\\u003eODbL\\u003c/a\\u003e.&quot;, &quot;detectRetina&quot;: false, &quot;maxNativeZoom&quot;: 18, &quot;maxZoom&quot;: 18, &quot;minZoom&quot;: 0, &quot;noWrap&quot;: false, &quot;opacity&quot;: 1, &quot;subdomains&quot;: &quot;abc&quot;, &quot;tms&quot;: false}\n",
       "            ).addTo(map_4881926acb1961b50d31699304a349de);\n",
       "        \n",
       "    \n",
       "            var marker_b5f7bfb8ee52f9e17c7a49b4d6370ccf = L.marker(\n",
       "                [41.9164, -84.0158],\n",
       "                {}\n",
       "            ).addTo(map_4881926acb1961b50d31699304a349de);\n",
       "        \n",
       "    \n",
       "            var marker_b8bef1fac1d15029ee9250e7c08e4d7b = L.marker(\n",
       "                [42.2875, -83.7611],\n",
       "                {}\n",
       "            ).addTo(map_4881926acb1961b50d31699304a349de);\n",
       "        \n",
       "    \n",
       "            var marker_5964fc9fa705b4f8a255edafc85fd892 = L.marker(\n",
       "                [42.2417, -83.6933],\n",
       "                {}\n",
       "            ).addTo(map_4881926acb1961b50d31699304a349de);\n",
       "        \n",
       "    \n",
       "            var marker_83686dad126b79ee6020ae766632e4bc = L.marker(\n",
       "                [42.2947, -83.7108],\n",
       "                {}\n",
       "            ).addTo(map_4881926acb1961b50d31699304a349de);\n",
       "        \n",
       "    \n",
       "            var marker_720ed61e84bd9b14627fba1c302a956d = L.marker(\n",
       "                [41.84, -83.8608],\n",
       "                {}\n",
       "            ).addTo(map_4881926acb1961b50d31699304a349de);\n",
       "        \n",
       "    \n",
       "            var marker_40d58657d8e6d050b0bcdb3e186f070a = L.marker(\n",
       "                [42.0636, -83.4358],\n",
       "                {}\n",
       "            ).addTo(map_4881926acb1961b50d31699304a349de);\n",
       "        \n",
       "    \n",
       "            var marker_9b0a4d7bfc71dfdcadfe64b9fdecbabc = L.marker(\n",
       "                [42.3264, -84.0133],\n",
       "                {}\n",
       "            ).addTo(map_4881926acb1961b50d31699304a349de);\n",
       "        \n",
       "    \n",
       "            var marker_b465640505289e9020fb991daf7ea6d7 = L.marker(\n",
       "                [41.9553, -83.6489],\n",
       "                {}\n",
       "            ).addTo(map_4881926acb1961b50d31699304a349de);\n",
       "        \n",
       "    \n",
       "            var marker_b14c351a5cce92101c1bab3ef5912a83 = L.marker(\n",
       "                [42.4344, -83.9858],\n",
       "                {}\n",
       "            ).addTo(map_4881926acb1961b50d31699304a349de);\n",
       "        \n",
       "    \n",
       "            var marker_651c0b47f1810a23c7901bd69ef76ca5 = L.marker(\n",
       "                [42.1508, -84.0236],\n",
       "                {}\n",
       "            ).addTo(map_4881926acb1961b50d31699304a349de);\n",
       "        \n",
       "    \n",
       "            var marker_a23f2195969bf068901ca6d70c6c17d5 = L.marker(\n",
       "                [42.0664, -83.6186],\n",
       "                {}\n",
       "            ).addTo(map_4881926acb1961b50d31699304a349de);\n",
       "        \n",
       "    \n",
       "            var marker_90841c3dc00e4665af04dfdfae296125 = L.marker(\n",
       "                [42.0811, -83.6769],\n",
       "                {}\n",
       "            ).addTo(map_4881926acb1961b50d31699304a349de);\n",
       "        \n",
       "    \n",
       "            var marker_a290636bcb07e66deefa06966d206276 = L.marker(\n",
       "                [41.9069, -83.4158],\n",
       "                {}\n",
       "            ).addTo(map_4881926acb1961b50d31699304a349de);\n",
       "        \n",
       "    \n",
       "            var marker_b0e13457a4b6f044c21c2c71dc5707af = L.marker(\n",
       "                [41.9497, -83.28],\n",
       "                {}\n",
       "            ).addTo(map_4881926acb1961b50d31699304a349de);\n",
       "        \n",
       "    \n",
       "            var marker_7bb7e8b8d6cba4ff085b3910ff32e81a = L.marker(\n",
       "                [42.1611, -83.7819],\n",
       "                {}\n",
       "            ).addTo(map_4881926acb1961b50d31699304a349de);\n",
       "        \n",
       "    \n",
       "            var marker_86bb7e1898378c1ea6654187984ea4e2 = L.marker(\n",
       "                [42.1236, -83.82],\n",
       "                {}\n",
       "            ).addTo(map_4881926acb1961b50d31699304a349de);\n",
       "        \n",
       "    \n",
       "            var marker_6e2e9ba0634ac6b17b5571ba8cdf8af8 = L.marker(\n",
       "                [41.8069, -83.5831],\n",
       "                {}\n",
       "            ).addTo(map_4881926acb1961b50d31699304a349de);\n",
       "        \n",
       "    \n",
       "            var marker_78204ce64741faf5c84ed57b9a54442e = L.marker(\n",
       "                [42.0028, -83.9336],\n",
       "                {}\n",
       "            ).addTo(map_4881926acb1961b50d31699304a349de);\n",
       "        \n",
       "    \n",
       "            var marker_8b30baaece6ffa96f2cc6c4bc7b6bf3c = L.marker(\n",
       "                [42.0283, -84.1108],\n",
       "                {}\n",
       "            ).addTo(map_4881926acb1961b50d31699304a349de);\n",
       "        \n",
       "    \n",
       "            var marker_1cc24c940835db0878c355a1a6881d83 = L.marker(\n",
       "                [42.4356, -83.7831],\n",
       "                {}\n",
       "            ).addTo(map_4881926acb1961b50d31699304a349de);\n",
       "        \n",
       "    \n",
       "            var marker_b2a835956afe33f4334b5565d10955e3 = L.marker(\n",
       "                [41.5631, -83.4764],\n",
       "                {}\n",
       "            ).addTo(map_4881926acb1961b50d31699304a349de);\n",
       "        \n",
       "    \n",
       "            var marker_7f1086145b57e92fb1056fe64c51ff0d = L.marker(\n",
       "                [42.2667, -84.4667],\n",
       "                {}\n",
       "            ).addTo(map_4881926acb1961b50d31699304a349de);\n",
       "        \n",
       "    \n",
       "            var marker_c30722080cebe07b10a860eebf261e8d = L.marker(\n",
       "                [42.2333, -83.5333],\n",
       "                {}\n",
       "            ).addTo(map_4881926acb1961b50d31699304a349de);\n",
       "        \n",
       "    \n",
       "            var marker_3e24cf7d9667cabfa63e5d9ca59dedac = L.marker(\n",
       "                [42.2228, -83.7444],\n",
       "                {}\n",
       "            ).addTo(map_4881926acb1961b50d31699304a349de);\n",
       "        \n",
       "&lt;/script&gt;\n",
       "&lt;/html&gt;\" style=\"position:absolute;width:100%;height:100%;left:0;top:0;border:none !important;\" allowfullscreen webkitallowfullscreen mozallowfullscreen></iframe></div></div>"
      ],
      "text/plain": [
       "<folium.folium.Map at 0x1586c8e2100>"
      ]
     },
     "metadata": {},
     "output_type": "display_data"
    }
   ],
   "source": [
    "# get the location information for this dataset\n",
    "df = pd.read_csv('assets/BinSize_d400.csv')\n",
    "station_locations_by_hash = df[df['hash'] == 'fb441e62df2d58994928907a91895ec62c2c42e6cd075c2700843b89']\n",
    "\n",
    "# get longitude and lattitude to plot\n",
    "lons = station_locations_by_hash['LONGITUDE'].tolist()\n",
    "lats = station_locations_by_hash['LATITUDE'].tolist()\n",
    "\n",
    "# plot on a beautiful folium map\n",
    "my_map = folium.Map(location = [lats[0], lons[0]], height = 500,  zoom_start = 9)\n",
    "for lat, lon in zip(lats, lons):\n",
    "    folium.Marker([lat, lon]).add_to(my_map)\n",
    "\n",
    "# render map in Jupyter\n",
    "display(my_map)"
   ]
  },
  {
   "cell_type": "markdown",
   "id": "ee210d81",
   "metadata": {},
   "source": [
    "## Step 1\n",
    "\n",
    "Carregue o conjunto de dados e transforme os dados em Celsius (consulte a documentação) e extraia todas as linhas que possuem temperaturas mínimas ou máximas.\n",
    "\n",
    "__dica: quando fiz esta etapa, eu tinha dois objetos DataFrame, cada um com aproximadamente 80.000 entradas__"
   ]
  },
  {
   "cell_type": "code",
   "execution_count": 4,
   "id": "659902f3",
   "metadata": {},
   "outputs": [],
   "source": [
    "df = pd.read_csv('assets/fb441e62df2d58994928907a91895ec62c2c42e6cd075c2700843b89.csv')\n",
    "\n",
    "# Removendo ****-02-29 \n",
    "df['Date'] = pd.to_datetime(df['Date'])\n",
    "mask = ((df['Date'].dt.month == 2) & (df['Date'].dt.day == 29))\n",
    "df = df[~mask]\n",
    "\n",
    "# df.loc[:,'Data_Value'] = df['Data_Value'] / 10\n",
    "dfMax = df[df[\"Element\"] == \"TMAX\"]\n",
    "dfMin = df[df[\"Element\"] == \"TMIN\"]"
   ]
  },
  {
   "cell_type": "code",
   "execution_count": 5,
   "id": "869ea601",
   "metadata": {},
   "outputs": [
    {
     "data": {
      "text/plain": [
       "(83020, 4)"
      ]
     },
     "execution_count": 5,
     "metadata": {},
     "output_type": "execute_result"
    }
   ],
   "source": [
    "dfMax.shape"
   ]
  },
  {
   "cell_type": "code",
   "execution_count": 6,
   "id": "ac8f5ac8",
   "metadata": {},
   "outputs": [
    {
     "data": {
      "text/plain": [
       "(81982, 4)"
      ]
     },
     "execution_count": 6,
     "metadata": {},
     "output_type": "execute_result"
    }
   ],
   "source": [
    "dfMin.shape"
   ]
  },
  {
   "cell_type": "markdown",
   "id": "76127ef9",
   "metadata": {},
   "source": [
    "## Step 2\n",
    "\n",
    "Para visualizar os dados, traçaríamos os dados mínimos e máximos para cada dia do ano entre os anos de 2005 e 2014 em todas as estações meteorológicas. Mas também precisamos descobrir quando a temperatura mínima ou máxima em 2015 cai abaixo do mínimo ou sobe acima do máximo da década anterior.\n",
    "\n",
    "Se você fez o passo 1, você tem dois objetos Series com tempos mínimo e máximo para os anos de 2005 a 2015. Você pode usar Pandas `groupby` para criar objetos Series de temperatura máxima e mínima em todas as estações meteorológicas para cada dia desses anos, e você pode lidar com os registros de 29 de fevereiro (o ano bissexto) descartando-os.\n",
    "\n",
    "__dica: quando terminei esta etapa, eu tinha dois objetos DataFrame, cada um com exatamente 4015 observações neles__"
   ]
  },
  {
   "cell_type": "code",
   "execution_count": 7,
   "id": "28a46768",
   "metadata": {},
   "outputs": [],
   "source": [
    "dfMaxTemp = dfMax.groupby('Date', as_index=False).agg({'Data_Value': 'max'})\n",
    "dfMinTemp = dfMin.groupby('Date', as_index=False).agg({'Data_Value': 'min'})"
   ]
  },
  {
   "cell_type": "markdown",
   "id": "66d5cbdc",
   "metadata": {},
   "source": [
    "## Step 3\n",
    "\n",
    "Agora que você agrupou as temperaturas máximas e mínimas diárias para cada dia dos anos de 2005 a 2015, você pode separar os dados de 2015. Em seguida, você pode usar a função `groupby` do Pandas para encontrar o máximo e o mínimo dos dados de temperatura para cada __dia do ano__ para os dados de 2005-2014.\n",
    "\n",
    "__dica: ao final desta etapa eu tinha dois DataFrames, um de valor máximo e outro de valor mínimo, cada um contendo 365 observações. Eu também tinha outro par de DataFrames semelhantes, mas apenas para o ano de 2015.__"
   ]
  },
  {
   "cell_type": "code",
   "execution_count": 8,
   "id": "b7959f31",
   "metadata": {},
   "outputs": [],
   "source": [
    "# Filtro do ano de 2015\n",
    "\n",
    "dfMaxTemp2015 = dfMaxTemp[dfMaxTemp['Date'].dt.year == 2015].reset_index(drop = True)\n",
    "dfMinTemp2015 = dfMinTemp[dfMinTemp['Date'].dt.year == 2015].reset_index(drop = True)\n",
    "\n",
    "dfMaxTempDec = dfMaxTemp[dfMaxTemp['Date'].dt.year != 2015]\n",
    "dfMinTempDec = dfMinTemp[dfMinTemp['Date'].dt.year != 2015]"
   ]
  },
  {
   "cell_type": "code",
   "execution_count": 9,
   "id": "901f115c",
   "metadata": {},
   "outputs": [],
   "source": [
    "max_tempDec = df.groupby(dfMaxTempDec['Date'].dt.strftime('%m-%d'))['Data_Value'].max().reset_index()\n",
    "min_tempDec = df.groupby(dfMinTempDec['Date'].dt.strftime('%m-%d'))['Data_Value'].min().reset_index()"
   ]
  },
  {
   "cell_type": "code",
   "execution_count": 15,
   "id": "9db2dc83",
   "metadata": {},
   "outputs": [
    {
     "data": {
      "text/plain": [
       "Timestamp('2005-01-01 00:00:00')"
      ]
     },
     "execution_count": 15,
     "metadata": {},
     "output_type": "execute_result"
    }
   ],
   "source": [
    "dfMaxTempDec['Date'].min()"
   ]
  },
  {
   "cell_type": "code",
   "execution_count": 11,
   "id": "86cfdca6",
   "metadata": {},
   "outputs": [],
   "source": [
    "max_tempDec.sort_values(\"Date\", inplace=True)\n",
    "max_tempDec.reset_index(drop=True, inplace=True)\n",
    "\n",
    "min_tempDec.sort_values(\"Date\", inplace=True)\n",
    "min_tempDec.reset_index(drop=True, inplace=True)"
   ]
  },
  {
   "cell_type": "code",
   "execution_count": null,
   "id": "e9b51ccb",
   "metadata": {},
   "outputs": [],
   "source": [
    "record_high = dfMaxTemp2015[dfMaxTemp2015['Data_Value'] > max_tempDec.reset_index()['Data_Value']]\n",
    "record_low = dfMinTemp2015[dfMinTemp2015['Data_Value'] < min_tempDec.reset_index()['Data_Value']]"
   ]
  },
  {
   "cell_type": "markdown",
   "id": "b98cc224",
   "metadata": {},
   "source": [
    "## Step 4\n",
    "\n",
    "Agora é hora de traçar! Você precisa explorar o matplotlib para plotar gráficos de linha das temperaturas mínima e máxima dos anos de 2005 a 2014 e para plotar __apenas__ as temperaturas diárias de 2015 que excederam esses valores."
   ]
  },
  {
   "cell_type": "code",
   "execution_count": null,
   "id": "2e0df760",
   "metadata": {},
   "outputs": [],
   "source": [
    "# Dimensões do plotagem\n",
    "plt.figure(figsize=(8,6))\n",
    "\n",
    "# Título\n",
    "plt.title('Low & High Temperature between 2005-2014 \\n and Record Braking Temperatures of 2015', alpha = 0.6)\n",
    "ax = plt.gca()  # Obtenha o objeto axes atual\n",
    "\n",
    "# Dados do eixo x\n",
    "x = np.arange(365)\n",
    "\n",
    "# Configuração dos ticks\n",
    "meses = ['Jan', 'Fev', 'Mar', 'Abr', 'Mai', 'Jun', 'Jul', 'Ago', 'Set', 'Out', 'Nov', 'Dez']\n",
    "ticks = np.linspace(0, 365, num=13, endpoint=True)  # Divisão igual em 12 pontos\n",
    "labels = [meses[int(tick / (365 / 12)) % 12] for tick in ticks]\n",
    "\n",
    "plt.xticks(ticks, labels)\n",
    "\n",
    "plt.scatter(record_high.index,record_high['Data_Value'], color = 'r', s = 15)\n",
    "plt.scatter(record_low.index,record_low['Data_Value'], color = 'b', s = 15)\n",
    "\n",
    "plt.plot(x, min_tempDec.Data_Value, '-', color = 'b', alpha = 0.5, linewidth=3)\n",
    "plt.plot(x, max_tempDec.Data_Value, '-', color = 'r', alpha = 0.5, linewidth=3);\n",
    "\n",
    "\n",
    "# rotate the tick labels for the x axis\n",
    "for item in ax.xaxis.get_ticklabels():\n",
    "    item.set_rotation(45)\n",
    "\n",
    "ax.set_xlabel('Month', alpha = 0.8)\n",
    "ax.set_ylabel('Temperature' , alpha = 0.8)\n",
    "\n",
    "# Preenchendo de cinza entre os gráficos\n",
    "plt.gca().fill_between(range(len(min_tempDec)), \n",
    "                       min_tempDec['Data_Value'], max_tempDec['Data_Value'], \n",
    "                       facecolor='lightgray', \n",
    "                       alpha=0.25);\n"
   ]
  },
  {
   "cell_type": "code",
   "execution_count": null,
   "id": "692ce4e5",
   "metadata": {},
   "outputs": [],
   "source": [
    "df = pd.read_csv('assets/fb441e62df2d58994928907a91895ec62c2c42e6cd075c2700843b89.csv')\n",
    "df = df.sort_values(by='Date')\n",
    "df.head()"
   ]
  },
  {
   "cell_type": "code",
   "execution_count": null,
   "id": "55af2f2f",
   "metadata": {},
   "outputs": [],
   "source": [
    "decade = df[(df['Date'] >= '2005-01-01') & (df['Date'] < '2015-01-01')]\n",
    "decade.head()\n",
    "print(decade['Date'].max())\n",
    "print(decade['Date'].min())"
   ]
  },
  {
   "cell_type": "code",
   "execution_count": null,
   "id": "5100e858",
   "metadata": {},
   "outputs": [],
   "source": [
    "year_2015 = df[(df['Date'] >= '2015-01-01')]\n",
    "year_2015['Date'].min()"
   ]
  },
  {
   "cell_type": "code",
   "execution_count": null,
   "id": "d434c138",
   "metadata": {},
   "outputs": [],
   "source": [
    "# Change date to datetime formats\n",
    "decade['Date'] = pd.to_datetime(decade['Date'])"
   ]
  },
  {
   "cell_type": "code",
   "execution_count": null,
   "id": "3ba5cedd",
   "metadata": {},
   "outputs": [],
   "source": [
    "#Create a month columns\n",
    "decade['Month'] = pd.DatetimeIndex(decade['Date']).month\n",
    "decade['Day'] = pd.DatetimeIndex(decade['Date']).day\n",
    "decade.head()"
   ]
  },
  {
   "cell_type": "code",
   "execution_count": null,
   "id": "14582df6",
   "metadata": {},
   "outputs": [],
   "source": [
    "grouped_max = decade.groupby(['Month','Day']).max()\n",
    "grouped_min = decade.groupby(['Month','Day']).min()"
   ]
  },
  {
   "cell_type": "code",
   "execution_count": null,
   "id": "990d89b5",
   "metadata": {},
   "outputs": [],
   "source": [
    "grouped_max = grouped_max.reset_index()\n",
    "grouped_min = grouped_min.reset_index()"
   ]
  },
  {
   "cell_type": "code",
   "execution_count": null,
   "id": "5ad82272",
   "metadata": {},
   "outputs": [],
   "source": [
    "\n",
    "# Drop Leap Day\n",
    "grouped_max = grouped_max.drop(grouped_max[(grouped_max['Day'] == 29) & (grouped_max['Month'] == 2)].index)\n",
    "grouped_min = grouped_min.drop(grouped_min[(grouped_min['Day'] == 29) & (grouped_min['Month'] == 2)].index)\n",
    "grouped_min.shape\n",
    "grouped_max = grouped_max.reset_index()\n",
    "grouped_min = grouped_min.reset_index()"
   ]
  },
  {
   "cell_type": "code",
   "execution_count": null,
   "id": "ac7d0c1a",
   "metadata": {},
   "outputs": [],
   "source": [
    "year_2015['Date'] = pd.to_datetime(year_2015['Date'])\n",
    "year_2015_max = year_2015.groupby('Date').max()\n",
    "year_2015_min = year_2015.groupby('Date').min()\n",
    "print(year_2015_max.shape)\n",
    "print(year_2015_min.shape)"
   ]
  },
  {
   "cell_type": "code",
   "execution_count": null,
   "id": "0b15e587",
   "metadata": {},
   "outputs": [],
   "source": [
    "year_2015_max = year_2015_max.reset_index() \n",
    "year_2015_min = year_2015_min.reset_index() "
   ]
  },
  {
   "cell_type": "code",
   "execution_count": null,
   "id": "0606cf5f",
   "metadata": {},
   "outputs": [],
   "source": [
    "record_high = year_2015_max[year_2015_max['Data_Value'] > grouped_max['Data_Value']]\n",
    "record_low = year_2015_min[year_2015_min['Data_Value'] < grouped_min['Data_Value']]"
   ]
  },
  {
   "cell_type": "code",
   "execution_count": null,
   "id": "e86d5636",
   "metadata": {},
   "outputs": [],
   "source": [
    "# x ticks\n",
    "xticks = (pd.date_range('1/1/2015', '31/12/2015', freq='M') - pd.DateOffset(days=1) + pd.DateOffset(days=1)).strftime('%j')\n",
    "xticks = [int(x.lstrip('0')) for x in xticks]\n",
    "xticks"
   ]
  },
  {
   "cell_type": "code",
   "execution_count": null,
   "id": "5d3a0148",
   "metadata": {},
   "outputs": [],
   "source": [
    "xticks_labels = pd.to_datetime(xticks, format = '%j').strftime('%b')\n",
    "xticks_labels"
   ]
  },
  {
   "cell_type": "code",
   "execution_count": null,
   "id": "b47cdc4d",
   "metadata": {},
   "outputs": [],
   "source": [
    "# create a new image\n",
    "\n",
    "%matplotlib notebook\n",
    "\n",
    "plt.figure()  \n",
    "  \n",
    "ax1 = plt.gca() # Primary axes\n",
    "ax2 = ax1.twinx() # Seondary Axis\n",
    "\n",
    "plt.scatter(record_high.index,record_high['Data_Value'], color = 'r', s = 15)\n",
    "plt.scatter(record_low.index,record_low['Data_Value'], color = 'b', s = 15)\n",
    "\n",
    "ax2.plot(grouped_min['Data_Value'], '-',color ='k', alpha = 0.1,  linewidth=1)\n",
    "ax2.plot(grouped_max['Data_Value'],'-', color ='k', alpha = 0.3,  linewidth=1)\n",
    "ax2.fill_between(grouped_min.index, \n",
    "                       grouped_min['Data_Value'], grouped_max['Data_Value'], \n",
    "                       facecolor='gray', \n",
    "                       alpha=0.25)\n",
    "ax2.set_xlim(1,365)\n",
    "ax2.set_xticks(xticks)\n",
    "ax2.set_xticklabels(xticks_labels, alpha = 0.6)\n",
    "ax1.set_xticklabels(xticks_labels, alpha = 0.6)\n",
    "ax2.set_title('Low & High Temperature between 2005-2014 \\n and Record Braking Temperatures of 2015', alpha =0.6)\n",
    "\n",
    "# Set y tick Labels\n",
    "axlim = ax1.set_ylim(-380,450)\n",
    "yticks = pd.Series([-300,0,400])\n",
    "ax1.set_yticks(yticks)\n",
    "# yticks = (ax.get_yticks() / 10).astype(int)\n",
    "ylabels = pd.Series(yticks/10).astype(int).astype(str) + ' °C'\n",
    "ax1.set_yticklabels(ylabels, alpha = 0.6)\n",
    "\n",
    "# Secondary y-axis labels\n",
    "#Convert to fahrenheit from celcius\n",
    "ax2.set_ylim(axlim)\n",
    "ax2.set_yticks(yticks)\n",
    "yticks_ax2 = (yticks/10 *  (9/5) + 32).astype(int)\n",
    "ylabels_ax2 = pd.Series(yticks_ax2).astype(int).astype(str) + ' °F'\n",
    "ax2.set_yticklabels(ylabels_ax2, alpha = 0.6)\n",
    "\n",
    "# Shaded Gray background\n",
    "# start = pd.Series(xticks).iloc[::2]\n",
    "# end = pd.Series(xticks).iloc[1::2]\n",
    "# for s, e in zip(start, end):\n",
    "#     ax1.axvspan(s,e, alpha=0.02, color='k', linewidth = 0)\n",
    "\n",
    "ax1.grid(True, alpha = 0.1)\n",
    "\n",
    "\n",
    "# invisible Frame\n",
    "for spine in ax2.spines:\n",
    "    ax2.spines[spine].set_visible(False)\n",
    "for spine in ax1.spines:\n",
    "    ax1.spines[spine].set_visible(False)\n",
    "    \n",
    "ax1.spines['bottom'].set_visible(True)\n",
    "ax1.spines['bottom'].set_alpha(0.3)\n",
    "\n",
    "# Removing Ticks\n",
    "ax1.tick_params(axis=u'both', which=u'both',length=0)\n",
    "ax2.tick_params(axis=u'both', which=u'both',length=0)\n",
    "\n",
    "# Labels\n",
    "ax1.set_xlabel('Month', alpha = 0.8)\n",
    "ax1.set_ylabel('Temperature' , alpha = 0.8)\n",
    "\n",
    "# legend\n",
    "leg = ax2.legend(loc=4,labels = ['Low (2005-2014)','High (2005-2014)','Record High','Record Low'], frameon = False, fontsize = 'x-small')\n",
    "plt.show()"
   ]
  },
  {
   "cell_type": "code",
   "execution_count": null,
   "id": "2a7dd7ef",
   "metadata": {},
   "outputs": [],
   "source": []
  }
 ],
 "metadata": {
  "kernelspec": {
   "display_name": "Python 3",
   "language": "python",
   "name": "python3"
  },
  "language_info": {
   "codemirror_mode": {
    "name": "ipython",
    "version": 3
   },
   "file_extension": ".py",
   "mimetype": "text/x-python",
   "name": "python",
   "nbconvert_exporter": "python",
   "pygments_lexer": "ipython3",
   "version": "3.8.1"
  }
 },
 "nbformat": 4,
 "nbformat_minor": 5
}
