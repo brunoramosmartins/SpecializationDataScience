{
 "cells": [
  {
   "cell_type": "markdown",
   "id": "f0fc411b",
   "metadata": {},
   "source": [
    "# Bar Charts"
   ]
  },
  {
   "cell_type": "markdown",
   "id": "84f01ccc",
   "metadata": {},
   "source": [
    "Matplotlib tem suporte para vários tipos de gráficos de barras. No caso mais geral, plotamos um gráfico de barras enviando um parâmetro dos componentes x e um parâmetro da altura da barra. Vamos fazer isso com alguns dados lineares."
   ]
  },
  {
   "cell_type": "code",
   "execution_count": 4,
   "id": "3d4b3bdc",
   "metadata": {},
   "outputs": [
    {
     "data": {
      "image/png": "[encoded data removed]",
      "text/plain": [
       "<Figure size 432x288 with 1 Axes>"
      ]
     },
     "metadata": {
      "needs_background": "light"
     },
     "output_type": "display_data"
    }
   ],
   "source": [
    "# Bring in our libraries and create the linear data\n",
    "import matplotlib.pyplot as plt\n",
    "import numpy as np\n",
    "\n",
    "linear_data = np.array([1,2,3,4,5,6,7,8])\n",
    "\n",
    "# Then, I'll generate a list of X labels\n",
    "xvals = range(len(linear_data))\n",
    "# And send this along with the linear data's bar heights, to the bar function. \n",
    "# We pass in the width of the bar as 0.3.\n",
    "plt.bar(xvals, linear_data, width = 0.3);"
   ]
  },
  {
   "cell_type": "markdown",
   "id": "98c441de",
   "metadata": {},
   "source": [
    "Para adicionar uma segunda barra, simplesmente chamamos o gráfico de barras novamente com novos dados, lembrando que precisamos ajustar o componente x para compensar a primeira barra que plotamos."
   ]
  },
  {
   "cell_type": "code",
   "execution_count": 3,
   "id": "3812e4f8",
   "metadata": {},
   "outputs": [
    {
     "data": {
      "image/png": "[encoded data removed]",
      "text/plain": [
       "<Figure size 432x288 with 1 Axes>"
      ]
     },
     "metadata": {
      "needs_background": "light"
     },
     "output_type": "display_data"
    }
   ],
   "source": [
    "# Lets compare some exponential data here\n",
    "new_xvals = []\n",
    "exponential_data = linear_data**2\n",
    "\n",
    "# Now we want to adjust the x axis values to make up\n",
    "# for the first set of bars plotted\n",
    "for item in xvals:\n",
    "    new_xvals.append(item+0.3)\n",
    "\n",
    "# And we just plot both items\n",
    "plt.bar(xvals, linear_data, width = 0.3)\n",
    "plt.bar(new_xvals, exponential_data, width = 0.3 ,color='red');"
   ]
  },
  {
   "cell_type": "markdown",
   "id": "ef093187",
   "metadata": {},
   "source": [
    "Portanto, o enredo parece bom, mas não ótimo. Todos os rótulos x estão à esquerda dos itens que estão sendo descritos e não centralizados. Agora, podemos centralizá-los com uma determinada barra, usando o parâmetro align, mas é um pouco frustrante quando você tem que fazer várias barras, e você mesmo tem que calcular. E é difícil adicionar uma nova série de dados manualmente. E isso piora, na verdade temos que iterar manualmente e adicionar datas se quisermos. Porque, caso contrário, não poderíamos definir o local esquerdo da barra adequadamente.\n",
    "\n",
    "\n",
    "Serei honesto, gráficos de barras são uma das coisas que menos gosto de criar no matplotlib. Eu sinto que a base está lá, mas algumas das maneiras que eu gostaria de usar a API, como plotar várias séries de dados em grupos ao longo do tempo, infelizmente estão faltando.\n",
    "\n",
    "Existem alguns outros recursos interessantes de gráficos de barras, no entanto. Por exemplo, você também pode adicionar barras de erro a cada barra, usando o parâmetro y-error. Por exemplo, cada um de nossos dados nos dados lineares pode ser, na verdade, um valor médio, calculado a partir de muitas observações diferentes. Então, poderíamos apenas criar uma lista de valores de erro que queremos renderizar também e mostrá-los."
   ]
  },
  {
   "cell_type": "code",
   "execution_count": 6,
   "id": "eac184dd",
   "metadata": {},
   "outputs": [
    {
     "data": {
      "image/png": "[encoded data removed]",
      "text/plain": [
       "<Figure size 432x288 with 1 Axes>"
      ]
     },
     "metadata": {
      "needs_background": "light"
     },
     "output_type": "display_data"
    }
   ],
   "source": [
    "# I'll import from a random function which can generate some random integers, and then I'll use a \n",
    "# list comprehension to generate this new list.\n",
    "from random import randint\n",
    "linear_err = [randint(1,4) for x in range(len(linear_data))] \n",
    "\n",
    "# This will plot a new set of bars with errorbars using the list of random error values\n",
    "plt.bar(xvals, linear_data, width = 0.3, yerr=linear_err);"
   ]
  },
  {
   "cell_type": "markdown",
   "id": "766ca74f",
   "metadata": {},
   "source": [
    "Também podemos fazer gráficos de barras empilhadas. Por exemplo, se quiséssemos mostrar valores cumulativos e ao mesmo tempo manter a série independente, poderíamos fazer isso definindo o parâmetro bottom e nosso segundo gráfico para ser igual ao primeiro conjunto de dados a plotar."
   ]
  },
  {
   "cell_type": "code",
   "execution_count": 8,
   "id": "8d436fb8",
   "metadata": {},
   "outputs": [
    {
     "data": {
      "image/png": "[encoded data removed]",
      "text/plain": [
       "<Figure size 432x288 with 1 Axes>"
      ]
     },
     "metadata": {
      "needs_background": "light"
     },
     "output_type": "display_data"
    }
   ],
   "source": [
    "# All wee need to do here is to set the bottom parameter of the second barchart\n",
    "# to be the linear data heights\n",
    "xvals = range(len(linear_data))\n",
    "plt.bar(xvals, linear_data, width = 0.3, color='b')\n",
    "plt.bar(xvals, exponential_data, width = 0.3, bottom=linear_data, color='r');"
   ]
  },
  {
   "cell_type": "markdown",
   "id": "ce8daade",
   "metadata": {},
   "source": [
    "Por fim, podemos transformar esse gráfico de barras em um gráfico de barras horizontal chamando a função barh.\n",
    "\n",
    "Mas observe que temos que mudar o fundo para a esquerda e a largura para a altura."
   ]
  },
  {
   "cell_type": "code",
   "execution_count": 9,
   "id": "48446a63",
   "metadata": {},
   "outputs": [
    {
     "data": {
      "image/png": "[encoded data removed]",
      "text/plain": [
       "<Figure size 432x288 with 1 Axes>"
      ]
     },
     "metadata": {
      "needs_background": "light"
     },
     "output_type": "display_data"
    }
   ],
   "source": [
    "# To switch to horizontal bar charts we just use barh as the function, and then\n",
    "# changer the width parameter to a height\n",
    "xvals = range(len(linear_data))\n",
    "plt.barh(xvals, linear_data, height = 0.3, color='b')\n",
    "plt.barh(xvals, exponential_data, height = 0.3, left=linear_data, color='r');"
   ]
  },
  {
   "cell_type": "markdown",
   "id": "02220b63",
   "metadata": {},
   "source": [
    "Portanto, esses são os fundamentos de gráficos e plotagens no Matplotlib. Eu acho que é importante perceber que realmente não há mágica - a camada de script é realmente um conjunto de funções de conveniência no topo da camada de objeto.\n",
    "\n",
    "Algumas pessoas têm preferência por um ou outro, mas, no fundo, elas manipulam os mesmos elementos de dados. E não acho que você deva pensar neles como opostos ou duplicados. Eles trabalham juntos, e ser capaz de se mover para frente e para trás é muito importante.\n",
    "\n",
    "Falamos sobre alguns gráficos fundamentais neste módulo. Gráficos de dispersão, gráficos de linhas e gráficos de barras. Há mais, que veremos no próximo módulo. Mas estes são uma boa base para consideração.\n",
    "\n",
    "A tarefa para este módulo é difícil. Destina-se a mostrar problemas de visualização de dados do mundo real. Você terá que alavancar seu conhecimento da Biblioteca Pandas desde o primeiro curso e combiná-lo com seu novo conhecimento de Matplotlib para chegar a uma solução elegante.\n",
    "\n",
    "Mas o resultado final deve ser uma peça pronta para portfólio. Então, vejo você nos fóruns para discussões e ajuda."
   ]
  },
  {
   "cell_type": "code",
   "execution_count": null,
   "id": "ff646a8f",
   "metadata": {},
   "outputs": [],
   "source": []
  }
 ],
 "metadata": {
  "kernelspec": {
   "display_name": "Python 3",
   "language": "python",
   "name": "python3"
  },
  "language_info": {
   "codemirror_mode": {
    "name": "ipython",
    "version": 3
   },
   "file_extension": ".py",
   "mimetype": "text/x-python",
   "name": "python",
   "nbconvert_exporter": "python",
   "pygments_lexer": "ipython3",
   "version": "3.8.1"
  }
 },
 "nbformat": 4,
 "nbformat_minor": 5
}
