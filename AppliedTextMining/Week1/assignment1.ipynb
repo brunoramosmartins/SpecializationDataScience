{
 "cells": [
  {
   "cell_type": "markdown",
   "metadata": {
    "deletable": false,
    "editable": false,
    "nbgrader": {
     "cell_type": "markdown",
     "checksum": "ec8ef6131742cfe7cbfc4f02a34ca107",
     "grade": false,
     "grade_id": "cell-8a754c8ce8a16eeb",
     "locked": true,
     "schema_version": 3,
     "solution": false,
     "task": false
    }
   },
   "source": [
    "# Assignment 1\n",
    "\n",
    "In this assignment, you'll be working with messy medical data and using regex to extract relevant infromation from the data. \n",
    "\n",
    "Each line of the `dates.txt` file corresponds to a medical note. Each note has a date that needs to be extracted, but each date is encoded in one of many formats.\n",
    "\n",
    "The goal of this assignment is to correctly identify all of the different date variants encoded in this dataset and to properly normalize and sort the dates. \n",
    "\n",
    "Here is a list of some of the variants you might encounter in this dataset:\n",
    "* 04/20/2009; 04/20/09; 4/20/09; 4/3/09\n",
    "* Mar-20-2009; Mar 20, 2009; March 20, 2009;  Mar. 20, 2009; Mar 20 2009;\n",
    "* 20 Mar 2009; 20 March 2009; 20 Mar. 2009; 20 March, 2009\n",
    "* Mar 20th, 2009; Mar 21st, 2009; Mar 22nd, 2009\n",
    "* Feb 2009; Sep 2009; Oct 2010\n",
    "* 6/2008; 12/2009\n",
    "* 2009; 2010\n",
    "\n",
    "Once you have extracted these date patterns from the text, the next step is to sort them in ascending chronological order accoring to the following rules:\n",
    "* Assume all dates in xx/xx/xx format are mm/dd/yy\n",
    "* Assume all dates where year is encoded in only two digits are years from the 1900's (e.g. 1/5/89 is January 5th, 1989)\n",
    "* If the day is missing (e.g. 9/2009), assume it is the first day of the month (e.g. September 1, 2009).\n",
    "* If the month is missing (e.g. 2010), assume it is the first of January of that year (e.g. January 1, 2010).\n",
    "* Watch out for potential typos as this is a raw, real-life derived dataset.\n",
    "\n",
    "With these rules in mind, find the correct date in each note and return a pandas Series in chronological order of the original Series' indices. This Series should be sorted by a tie-break sort in the format of (\"extracted date\", \"original row number\").\n",
    "\n",
    "For example if the original series was this:\n",
    "\n",
    "    0    1999\n",
    "    1    2010\n",
    "    2    1978\n",
    "    3    2015\n",
    "    4    1985\n",
    "\n",
    "Your function should return this:\n",
    "\n",
    "    0    2\n",
    "    1    4\n",
    "    2    0\n",
    "    3    1\n",
    "    4    3\n",
    "\n",
    "Your score will be calculated using [Kendall's tau](https://en.wikipedia.org/wiki/Kendall_rank_correlation_coefficient), a correlation measure for ordinal data.\n",
    "\n",
    "*This function should return a Series of length 500 and dtype int.*"
   ]
  },
  {
   "cell_type": "code",
   "execution_count": 1,
   "metadata": {
    "deletable": false,
    "editable": false,
    "nbgrader": {
     "cell_type": "code",
     "checksum": "4b47ce38a503bfb1f113580f394d8667",
     "grade": false,
     "grade_id": "cell-28048f36edc32946",
     "locked": true,
     "schema_version": 3,
     "solution": false,
     "task": false
    }
   },
   "outputs": [
    {
     "data": {
      "text/plain": [
       "0         03/25/93 Total time of visit (in minutes):\\n\n",
       "1                       6/18/85 Primary Care Doctor:\\n\n",
       "2    sshe plans to move as of 7/8/71 In-Home Servic...\n",
       "3                7 on 9/27/75 Audit C Score Current:\\n\n",
       "4    2/6/96 sleep studyPain Treatment Pain Level (N...\n",
       "5                    .Per 7/06/79 Movement D/O note:\\n\n",
       "6    4, 5/18/78 Patient's thoughts about current su...\n",
       "7    10/24/89 CPT Code: 90801 - Psychiatric Diagnos...\n",
       "8                         3/7/86 SOS-10 Total Score:\\n\n",
       "9             (4/10/71)Score-1Audit C Score Current:\\n\n",
       "dtype: object"
      ]
     },
     "execution_count": 1,
     "metadata": {},
     "output_type": "execute_result"
    }
   ],
   "source": [
    "import pandas as pd\n",
    "\n",
    "doc = []\n",
    "with open('assets/dates.txt') as file:\n",
    "    for line in file:\n",
    "        doc.append(line)\n",
    "\n",
    "df = pd.Series(doc)\n",
    "df.head(10)"
   ]
  },
  {
   "cell_type": "code",
   "execution_count": 19,
   "metadata": {
    "deletable": false,
    "nbgrader": {
     "cell_type": "code",
     "checksum": "3e58e227860ae4b02d6bdddd81506787",
     "grade": false,
     "grade_id": "cell-d6f35a51303ed6ff",
     "locked": false,
     "schema_version": 3,
     "solution": true,
     "task": false
    }
   },
   "outputs": [
    {
     "name": "stderr",
     "output_type": "stream",
     "text": [
      "C:\\Users\\bruno\\AppData\\Local\\Temp\\ipykernel_16848\\3168716545.py:14: UserWarning: Could not infer format, so each element will be parsed individually, falling back to `dateutil`. To ensure parsing is consistent and as-expected, please specify a format.\n",
      "  parsed_date['date'] = pd.to_datetime(parsed_date[6])\n"
     ]
    }
   ],
   "source": [
    "def date_sorter():\n",
    "    \n",
    "    r1 = '(\\d{1,2}[/-]\\d{1,2}[/-]\\d{2,4})'\n",
    "    r2 = '((?:Jan|Feb|Mar|Apr|May|Jun|Jul|Aug|Sep|Oct|Nov|Dec)[\\S]*[+\\s]\\d{1,2}[,]{0,1}[+\\s]\\d{4})'\n",
    "    r3 = '(\\d{1,2}[+\\s](?:Jan|Feb|Mar|Apr|May|Jun|Jul|Aug|Sep|Oct|Nov|Dec)[\\S]*[+\\s]\\d{4})'\n",
    "    r4 = '((?:Jan|Feb|Mar|Apr|May|Jun|Jul|Aug|Sep|Oct|Nov|Dec)[\\S]*[+\\s]\\d{4})'\n",
    "    r5 = '(\\d{1,2}[/-][1|2]\\d{3})'\n",
    "    r6 = '([1|2]\\d{3})'\n",
    "    pattern = f\"({r1}|{r2}|{r3}|{r4}|{r5}|{r6})\"\n",
    "\n",
    "    parsed_date = df.str.extract(pattern, expand=True)\n",
    "    parsed_date[6] = parsed_date[0].str.replace('Janaury', 'January').str.replace('Decemeber', 'December')\n",
    "\n",
    "    parsed_date['date'] = pd.to_datetime(parsed_date[6])\n",
    "\n",
    "    parsed_date['year'] = parsed_date['date'].dt.year\n",
    "    parsed_date['month'] = parsed_date['date'].dt.month\n",
    "    parsed_date['day'] = parsed_date['date'].dt.day\n",
    "\n",
    "    parsed_date.loc[parsed_date['year'] == 2071, 'year'] = '1971'\n",
    "    parsed_date.loc[parsed_date['year'] == 2072, 'year'] = '1972'\n",
    "\n",
    "    parsed_date['format_date'] = parsed_date.apply(lambda row: f\"{row['year']}-{row['month']}-{row['day']}\", axis=1)\n",
    "\n",
    "    ordened = pd.Series(pd.to_datetime(parsed_date['format_date'], format='%Y-%m-%d')).sort_values(ascending=True).index\n",
    "    # ordened = ordened.sort_values(ascending=True).index\n",
    "    # parsed_date['text'] = df\n",
    "    # return parsed_date\n",
    "\n",
    "    return pd.Series(ordened)\n",
    "\n",
    "x = date_sorter()"
   ]
  },
  {
   "cell_type": "code",
   "execution_count": 3,
   "metadata": {},
   "outputs": [],
   "source": [
    "# parsed_date[parsed_date[0].str.contains(r'(/\\d{2}$)')]"
   ]
  },
  {
   "cell_type": "code",
   "execution_count": 22,
   "metadata": {},
   "outputs": [
    {
     "data": {
      "text/plain": [
       "0        9\n",
       "1       84\n",
       "2        2\n",
       "3       53\n",
       "4       28\n",
       "      ... \n",
       "495    231\n",
       "496    141\n",
       "497    186\n",
       "498    161\n",
       "499    413\n",
       "Length: 500, dtype: int64"
      ]
     },
     "execution_count": 22,
     "metadata": {},
     "output_type": "execute_result"
    }
   ],
   "source": [
    "x"
   ]
  },
  {
   "cell_type": "code",
   "execution_count": 9,
   "metadata": {},
   "outputs": [
    {
     "data": {
      "text/plain": [
       "Index([0, 1, 2, 3, 4, 5, 6, 'date', 'year', 'month', 'day', 'format_date',\n",
       "       'text'],\n",
       "      dtype='object')"
      ]
     },
     "execution_count": 9,
     "metadata": {},
     "output_type": "execute_result"
    }
   ],
   "source": [
    "x.columns"
   ]
  },
  {
   "cell_type": "code",
   "execution_count": 11,
   "metadata": {},
   "outputs": [],
   "source": [
    "y = x[['date', 'year', 'month', 'day', 'format_date', 'text']].copy()"
   ]
  },
  {
   "cell_type": "code",
   "execution_count": 24,
   "metadata": {},
   "outputs": [
    {
     "name": "stderr",
     "output_type": "stream",
     "text": [
      "C:\\Users\\bruno\\AppData\\Local\\Temp\\ipykernel_16848\\2755575145.py:12: UserWarning: Could not infer format, so each element will be parsed individually, falling back to `dateutil`. To ensure parsing is consistent and as-expected, please specify a format.\n",
      "  parsed_date['date'] = pd.to_datetime(parsed_date[6])\n"
     ]
    }
   ],
   "source": [
    "r1 = '(\\d{1,2}[/-]\\d{1,2}[/-]\\d{2,4})'\n",
    "r2 = '((?:Jan|Feb|Mar|Apr|May|Jun|Jul|Aug|Sep|Oct|Nov|Dec)[\\S]*[+\\s]\\d{1,2}[,]{0,1}[+\\s]\\d{4})'\n",
    "r3 = '(\\d{1,2}[+\\s](?:Jan|Feb|Mar|Apr|May|Jun|Jul|Aug|Sep|Oct|Nov|Dec)[\\S]*[+\\s]\\d{4})'\n",
    "r4 = '((?:Jan|Feb|Mar|Apr|May|Jun|Jul|Aug|Sep|Oct|Nov|Dec)[\\S]*[+\\s]\\d{4})'\n",
    "r5 = '(\\d{1,2}[/-][1|2]\\d{3})'\n",
    "r6 = '([1|2]\\d{3})'\n",
    "pattern = f\"({r1}|{r2}|{r3}|{r4}|{r5}|{r6})\"\n",
    "\n",
    "parsed_date = df.str.extract(pattern, expand=True)\n",
    "parsed_date[6] = parsed_date[0].str.replace('Janaury', 'January').str.replace('Decemeber', 'December')\n",
    "\n",
    "parsed_date['date'] = pd.to_datetime(parsed_date[6])\n",
    "\n",
    "parsed_date['year'] = parsed_date['date'].dt.year\n",
    "parsed_date['month'] = parsed_date['date'].dt.month\n",
    "parsed_date['day'] = parsed_date['date'].dt.day\n",
    "\n",
    "parsed_date.loc[parsed_date['year'] == 2071, 'year'] = '1971'\n",
    "parsed_date.loc[parsed_date['year'] == 2072, 'year'] = '1972'\n",
    "\n",
    "parsed_date['format_date'] = parsed_date.apply(lambda row: f\"{row['year']}-{row['month']}-{row['day']}\", axis=1)"
   ]
  },
  {
   "cell_type": "code",
   "execution_count": 35,
   "metadata": {},
   "outputs": [
    {
     "name": "stderr",
     "output_type": "stream",
     "text": [
      "C:\\Users\\bruno\\AppData\\Local\\Temp\\ipykernel_16848\\3309448080.py:1: UserWarning: This pattern is interpreted as a regular expression, and has match groups. To actually get the groups, use str.extract.\n",
      "  parsed_date[parsed_date[0].str.contains(r'(/\\d{2}$)')][60:70]\n"
     ]
    },
    {
     "data": {
      "text/html": [
       "<div>\n",
       "<style scoped>\n",
       "    .dataframe tbody tr th:only-of-type {\n",
       "        vertical-align: middle;\n",
       "    }\n",
       "\n",
       "    .dataframe tbody tr th {\n",
       "        vertical-align: top;\n",
       "    }\n",
       "\n",
       "    .dataframe thead th {\n",
       "        text-align: right;\n",
       "    }\n",
       "</style>\n",
       "<table border=\"1\" class=\"dataframe\">\n",
       "  <thead>\n",
       "    <tr style=\"text-align: right;\">\n",
       "      <th></th>\n",
       "      <th>0</th>\n",
       "      <th>1</th>\n",
       "      <th>2</th>\n",
       "      <th>3</th>\n",
       "      <th>4</th>\n",
       "      <th>5</th>\n",
       "      <th>6</th>\n",
       "      <th>date</th>\n",
       "      <th>year</th>\n",
       "      <th>month</th>\n",
       "      <th>day</th>\n",
       "      <th>format_date</th>\n",
       "    </tr>\n",
       "  </thead>\n",
       "  <tbody>\n",
       "    <tr>\n",
       "      <th>79</th>\n",
       "      <td>10/04/98</td>\n",
       "      <td>10/04/98</td>\n",
       "      <td>NaN</td>\n",
       "      <td>NaN</td>\n",
       "      <td>NaN</td>\n",
       "      <td>NaN</td>\n",
       "      <td>10/04/98</td>\n",
       "      <td>1998-10-04</td>\n",
       "      <td>1998</td>\n",
       "      <td>10</td>\n",
       "      <td>4</td>\n",
       "      <td>1998-10-4</td>\n",
       "    </tr>\n",
       "    <tr>\n",
       "      <th>80</th>\n",
       "      <td>6/29/81</td>\n",
       "      <td>6/29/81</td>\n",
       "      <td>NaN</td>\n",
       "      <td>NaN</td>\n",
       "      <td>NaN</td>\n",
       "      <td>NaN</td>\n",
       "      <td>6/29/81</td>\n",
       "      <td>1981-06-29</td>\n",
       "      <td>1981</td>\n",
       "      <td>6</td>\n",
       "      <td>29</td>\n",
       "      <td>1981-6-29</td>\n",
       "    </tr>\n",
       "    <tr>\n",
       "      <th>81</th>\n",
       "      <td>8/04/78</td>\n",
       "      <td>8/04/78</td>\n",
       "      <td>NaN</td>\n",
       "      <td>NaN</td>\n",
       "      <td>NaN</td>\n",
       "      <td>NaN</td>\n",
       "      <td>8/04/78</td>\n",
       "      <td>1978-08-04</td>\n",
       "      <td>1978</td>\n",
       "      <td>8</td>\n",
       "      <td>4</td>\n",
       "      <td>1978-8-4</td>\n",
       "    </tr>\n",
       "    <tr>\n",
       "      <th>84</th>\n",
       "      <td>5/18/71</td>\n",
       "      <td>5/18/71</td>\n",
       "      <td>NaN</td>\n",
       "      <td>NaN</td>\n",
       "      <td>NaN</td>\n",
       "      <td>NaN</td>\n",
       "      <td>5/18/71</td>\n",
       "      <td>2071-05-18</td>\n",
       "      <td>1971</td>\n",
       "      <td>5</td>\n",
       "      <td>18</td>\n",
       "      <td>1971-5-18</td>\n",
       "    </tr>\n",
       "    <tr>\n",
       "      <th>86</th>\n",
       "      <td>6/05/93</td>\n",
       "      <td>6/05/93</td>\n",
       "      <td>NaN</td>\n",
       "      <td>NaN</td>\n",
       "      <td>NaN</td>\n",
       "      <td>NaN</td>\n",
       "      <td>6/05/93</td>\n",
       "      <td>1993-06-05</td>\n",
       "      <td>1993</td>\n",
       "      <td>6</td>\n",
       "      <td>5</td>\n",
       "      <td>1993-6-5</td>\n",
       "    </tr>\n",
       "    <tr>\n",
       "      <th>87</th>\n",
       "      <td>8/9/97</td>\n",
       "      <td>8/9/97</td>\n",
       "      <td>NaN</td>\n",
       "      <td>NaN</td>\n",
       "      <td>NaN</td>\n",
       "      <td>NaN</td>\n",
       "      <td>8/9/97</td>\n",
       "      <td>1997-08-09</td>\n",
       "      <td>1997</td>\n",
       "      <td>8</td>\n",
       "      <td>9</td>\n",
       "      <td>1997-8-9</td>\n",
       "    </tr>\n",
       "    <tr>\n",
       "      <th>88</th>\n",
       "      <td>12/8/82</td>\n",
       "      <td>12/8/82</td>\n",
       "      <td>NaN</td>\n",
       "      <td>NaN</td>\n",
       "      <td>NaN</td>\n",
       "      <td>NaN</td>\n",
       "      <td>12/8/82</td>\n",
       "      <td>1982-12-08</td>\n",
       "      <td>1982</td>\n",
       "      <td>12</td>\n",
       "      <td>8</td>\n",
       "      <td>1982-12-8</td>\n",
       "    </tr>\n",
       "    <tr>\n",
       "      <th>89</th>\n",
       "      <td>8/26/89</td>\n",
       "      <td>8/26/89</td>\n",
       "      <td>NaN</td>\n",
       "      <td>NaN</td>\n",
       "      <td>NaN</td>\n",
       "      <td>NaN</td>\n",
       "      <td>8/26/89</td>\n",
       "      <td>1989-08-26</td>\n",
       "      <td>1989</td>\n",
       "      <td>8</td>\n",
       "      <td>26</td>\n",
       "      <td>1989-8-26</td>\n",
       "    </tr>\n",
       "    <tr>\n",
       "      <th>90</th>\n",
       "      <td>10/13/95</td>\n",
       "      <td>10/13/95</td>\n",
       "      <td>NaN</td>\n",
       "      <td>NaN</td>\n",
       "      <td>NaN</td>\n",
       "      <td>NaN</td>\n",
       "      <td>10/13/95</td>\n",
       "      <td>1995-10-13</td>\n",
       "      <td>1995</td>\n",
       "      <td>10</td>\n",
       "      <td>13</td>\n",
       "      <td>1995-10-13</td>\n",
       "    </tr>\n",
       "    <tr>\n",
       "      <th>91</th>\n",
       "      <td>4/19/91</td>\n",
       "      <td>4/19/91</td>\n",
       "      <td>NaN</td>\n",
       "      <td>NaN</td>\n",
       "      <td>NaN</td>\n",
       "      <td>NaN</td>\n",
       "      <td>4/19/91</td>\n",
       "      <td>1991-04-19</td>\n",
       "      <td>1991</td>\n",
       "      <td>4</td>\n",
       "      <td>19</td>\n",
       "      <td>1991-4-19</td>\n",
       "    </tr>\n",
       "  </tbody>\n",
       "</table>\n",
       "</div>"
      ],
      "text/plain": [
       "           0         1    2    3    4    5         6       date  year  month  \\\n",
       "79  10/04/98  10/04/98  NaN  NaN  NaN  NaN  10/04/98 1998-10-04  1998     10   \n",
       "80   6/29/81   6/29/81  NaN  NaN  NaN  NaN   6/29/81 1981-06-29  1981      6   \n",
       "81   8/04/78   8/04/78  NaN  NaN  NaN  NaN   8/04/78 1978-08-04  1978      8   \n",
       "84   5/18/71   5/18/71  NaN  NaN  NaN  NaN   5/18/71 2071-05-18  1971      5   \n",
       "86   6/05/93   6/05/93  NaN  NaN  NaN  NaN   6/05/93 1993-06-05  1993      6   \n",
       "87    8/9/97    8/9/97  NaN  NaN  NaN  NaN    8/9/97 1997-08-09  1997      8   \n",
       "88   12/8/82   12/8/82  NaN  NaN  NaN  NaN   12/8/82 1982-12-08  1982     12   \n",
       "89   8/26/89   8/26/89  NaN  NaN  NaN  NaN   8/26/89 1989-08-26  1989      8   \n",
       "90  10/13/95  10/13/95  NaN  NaN  NaN  NaN  10/13/95 1995-10-13  1995     10   \n",
       "91   4/19/91   4/19/91  NaN  NaN  NaN  NaN   4/19/91 1991-04-19  1991      4   \n",
       "\n",
       "    day format_date  \n",
       "79    4   1998-10-4  \n",
       "80   29   1981-6-29  \n",
       "81    4    1978-8-4  \n",
       "84   18   1971-5-18  \n",
       "86    5    1993-6-5  \n",
       "87    9    1997-8-9  \n",
       "88    8   1982-12-8  \n",
       "89   26   1989-8-26  \n",
       "90   13  1995-10-13  \n",
       "91   19   1991-4-19  "
      ]
     },
     "execution_count": 35,
     "metadata": {},
     "output_type": "execute_result"
    }
   ],
   "source": [
    "parsed_date[parsed_date[0].str.contains(r'(/\\d{2}$)')][60:70]"
   ]
  },
  {
   "cell_type": "code",
   "execution_count": 34,
   "metadata": {},
   "outputs": [
    {
     "data": {
      "text/plain": [
       "0                          4/10/71\n",
       "1                          4/10/71\n",
       "2                              NaN\n",
       "3                              NaN\n",
       "4                              NaN\n",
       "5                              NaN\n",
       "6                          4/10/71\n",
       "date           2071-04-10 00:00:00\n",
       "year                          1971\n",
       "month                            4\n",
       "day                             10\n",
       "format_date              1971-4-10\n",
       "Name: 9, dtype: object"
      ]
     },
     "execution_count": 34,
     "metadata": {},
     "output_type": "execute_result"
    }
   ],
   "source": [
    "parsed_date.loc[9]"
   ]
  },
  {
   "cell_type": "code",
   "execution_count": null,
   "metadata": {},
   "outputs": [],
   "source": []
  }
 ],
 "metadata": {
  "coursera": {
   "course_slug": "python-text-mining",
   "graded_item_id": "LvcWI",
   "launcher_item_id": "krne9",
   "part_id": "Mkp1I"
  },
  "kernelspec": {
   "display_name": "Python 3 (ipykernel)",
   "language": "python",
   "name": "python3"
  },
  "language_info": {
   "codemirror_mode": {
    "name": "ipython",
    "version": 3
   },
   "file_extension": ".py",
   "mimetype": "text/x-python",
   "name": "python",
   "nbconvert_exporter": "python",
   "pygments_lexer": "ipython3",
   "version": "3.11.4"
  },
  "vscode": {
   "interpreter": {
    "hash": "aee8b7b246df8f9039afb4144a1f6fd8d2ca17a180786b69acc140d282b71a49"
   }
  }
 },
 "nbformat": 4,
 "nbformat_minor": 4
}
